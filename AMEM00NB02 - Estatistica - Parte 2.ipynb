{
 "cells": [
  {
   "cell_type": "markdown",
   "metadata": {
    "id": "njbaOrWPNhFi"
   },
   "source": [
    "# <center>VAI Academy</center>\n",
    "# <center> Estatística - Parte 2</center>\n",
    "___\n",
    "Todo o conteúdo que você terá acesso ao longo desse período é confidencial, não sendo possível compartilhar ou comercializar os links ou os materiais recebidos que sejam de propriedade da VAI Academy. \n",
    "\n",
    "Dessa forma, ao participar do curso você está aceitando os termos de confidencialidade e não-comercialização dos conteúdos que serão recebidos.\n",
    "___\n",
    "# <center> Objetivos de aprendizado </center>\n",
    "- Compreender os conceitos básicos de estatística (e.g. média, mediana, variância, desvio padrão, correlação)\n",
    "- Compreender os conceitos básicos de probabilidade e sua relação com a estatística\n",
    "- Formar hipóteses, conhecer e analisar os tipos de erros\n",
    "___\n",
    "\n",
    "## Sumário\n",
    "4. [Estatística descritiva](#descstats)\n",
    "\n",
    "\n",
    "**Os conceitos que você vai aprender nessa aula terão grande utilidade em outras etapas da ciência de dados!**"
   ]
  },
  {
   "cell_type": "markdown",
   "metadata": {},
   "source": [
    "## Carregando Variáveis\n",
    "\n",
    "Para conseguirmos seguir aprendendo os conceitos a partir de onde paramos no notebook anterior, faremos a leitura de um arquivo pickle na célula a seguir. Não se preocupe em entender o significado da célula a seguir nesse momento, entraremos no detalhe do seu funcionamento mais a frente no curso. O arquivo ```var_AMEM00NB02_parte_2.pkl``` deve se encontrar junto com os arquivos de dados desse notebook. Basta colocá-lo na pasta dados e rodar a célula a seguir."
   ]
  },
  {
   "cell_type": "code",
   "execution_count": 1,
   "metadata": {},
   "outputs": [],
   "source": [
    "import pickle\n",
    "\n",
    "with open(\"dados/var_AMEM00NB02_parte_2.pkl\", \"rb\") as f:\n",
    "    diamond_df = pickle.load(f)"
   ]
  },
  {
   "cell_type": "markdown",
   "metadata": {},
   "source": [
    "## Importando Bibliotecas"
   ]
  },
  {
   "cell_type": "code",
   "execution_count": 2,
   "metadata": {},
   "outputs": [],
   "source": [
    "import pandas as pd\n",
    "import numpy as np\n",
    "import math\n",
    "import matplotlib.pyplot as plt"
   ]
  },
  {
   "cell_type": "markdown",
   "metadata": {
    "id": "u_5FfITDZhw3"
   },
   "source": [
    "### 4.3. Medidas de posição\n",
    "\n",
    "Geralmente queremos representar um conjunto de dados a partir de apenas alguns valores que sejam representativos do todo. Geralmente usamos as medidas de posição (ou localização) central, que são a média, moda e mediana."
   ]
  },
  {
   "cell_type": "markdown",
   "metadata": {
    "id": "UKXgDd3vaGev"
   },
   "source": [
    "#### 4.3.1. Média\n",
    "A média aritmética simples, ou simplesmente média, é a medida de tendência central mais popular e usada no dia-a-dia. Ela é obtida dividindo-se a soma dos valores pela quantidade de elementos.\n",
    "\n",
    "Em termos matemáticos, calculamos a média como:\n",
    "\\begin{equation*}\n",
    "\\bar{x} = \\frac{1}{N}\\sum\\limits_{k=1}^{N}x_k\n",
    "\\end{equation*}\n",
    "onde $\\bar{x}$ representa a média, $N$ a quantidade de dados e $x_k$ o valor do k-ésimo dado.\n",
    "\n",
    "Como já aprendemos a calcular a média tanto em matrizes numéricas como em um  Pandas df (dataframe), vamos relembrar com um exercício.\n"
   ]
  },
  {
   "cell_type": "markdown",
   "metadata": {
    "id": "27tHXPGGamFH"
   },
   "source": [
    "##### Exercício 4.6\n",
    "Obtenha a média da medida de preço dos diamantes (variável `price`) usando o método  `mean()` das bibliotecas:\n",
    "1. NumPy\n",
    "2. Pandas"
   ]
  },
  {
   "cell_type": "code",
   "execution_count": null,
   "metadata": {
    "exid": "4.6",
    "id": "NbNAj-6qanRe"
   },
   "outputs": [],
   "source": [
    "# Escreva sua resposta aqui:\n",
    "pd_mean = _____\n",
    "print(\"Média com Pandas: \", float(pd_mean))\n",
    "\n",
    "price = np.array(diamond_df.price) # Converte um pandas df em um numpy array\n",
    "# Escreva sua resposta aqui:\n",
    "np_mean = _____\n",
    "print(\"Média com NumPy: \", float(np_mean))"
   ]
  },
  {
   "cell_type": "markdown",
   "metadata": {
    "id": "PnHTJZZLax9-"
   },
   "source": [
    "#### 4.3.2. Mediana\n",
    "A mediana corresponde ao **valor central** de um conjunto de dados que foram previamente ordenados de forma crescente, separando a metade maior e a metade menor desses dados. Se o número de amostras for igual, tomamos a média dos dois valores centrais.\n",
    " \n",
    "<img src=\"https://i.imgur.com/3fEikig.png\" alt=\"as\" width=\"350\" />\n",
    "\n",
    "A vantagem de usar a mediana em relação à média é que a mediana é menos susceptível a mudanças quando existem valores excepcionalmente altos ou baixos dentro de um conjunto de dados. Assim, em análises de dados onde existem muitos valores extremos, como por exemplo renda familiar ou outros ativos voláteis, a média pode ser distorcida por um pequeno número de valores extremamente altos ou baixos, enquanto a mediana pode dar uma ideia melhor de um valor típico do conjunto."
   ]
  },
  {
   "cell_type": "markdown",
   "metadata": {
    "id": "F8UaUzaJbANF"
   },
   "source": [
    "##### Exercício 4.7\n",
    "\n",
    "Complete a função a seguir para calcular a mediana de uma coluna de um DataFrame. Caso tenha dúvidas, veja o exemplo da imagem acima."
   ]
  },
  {
   "cell_type": "code",
   "execution_count": null,
   "metadata": {
    "exid": "4.7",
    "id": "mk_MEoCubEju"
   },
   "outputs": [],
   "source": [
    "def get_median_from_df(df, column_name):\n",
    "    \"\"\"\n",
    "    Calcula a mediana da coluna 'column_name' do dataframe df\n",
    "    Input: dataframe e nome da coluna para a qual deseja-se calcular a mediana\n",
    "    Output: mediana (type: float)\n",
    "    \"\"\"\n",
    "    \n",
    "    # Converta os dados para um numpy array\n",
    "    var_array = np.array(_______)\n",
    "    \n",
    "    # Obenha o número de elementos do array\n",
    "    N = ______\n",
    "\n",
    "    # Ordena o array com o método np.sort()\n",
    "    ord_array = np.sort(var_array)\n",
    "    \n",
    "    # Verificando a pariddade do número de elementos\n",
    "    if N % 2 == 1: # Se N for ímpar\n",
    "        median = ____\n",
    "    else: # Se N for par, então pega a média dos dois valores centrais\n",
    "        median = sum(ord_array[N//2-1:N//2+1])/2.0\n",
    "    \n",
    "    return float(median)\n",
    "\n",
    "\n",
    "# Verifique seus resultados\n",
    "price_50 = _______ # Use a função que criamos para calcular a mediana da coluna 'price'\n",
    "print(\"Mediana calculada: \", price_50)\n",
    "print(\"Mediana do Pandas: \", float(diamond_df.price.median()))\n",
    "print(\"Mediana do Numpy: \", float(np.median(diamond_df.price)))"
   ]
  },
  {
   "cell_type": "markdown",
   "metadata": {
    "id": "oFwFh6aubSs-"
   },
   "source": [
    "#### 4.3.3. Moda\n",
    "A moda representa o **valor mais frequente** no conjunto de dados.\n",
    "\n",
    "Diferente da média e da mediana, a moda é especialmente útil em variáveis categóricas, em que a média e a mediana não podem ser definidas. Por exemplo, a moda da amostra\n",
    "\n",
    "`['maçã', 'banana', 'laranja', 'laranja', 'laranja', 'pêssego']` é laranja"
   ]
  },
  {
   "cell_type": "markdown",
   "metadata": {
    "id": "jGQ1QVdHbYmI"
   },
   "source": [
    "##### Exercício 4.8\n",
    "Retorne o valor mais comum da variável `color` **usando a tabela de frequências**. Depois, compare seus resultados com a função [`mode()`](https://pandas.pydata.org/docs/reference/api/pandas.DataFrame.mode.html) da biblioteca Pandas."
   ]
  },
  {
   "cell_type": "code",
   "execution_count": null,
   "metadata": {
    "exid": "4.8",
    "id": "cU5rV3DEbaQH"
   },
   "outputs": [],
   "source": [
    "# Crie a tabela de frequência\n",
    "color_counts = _____\n",
    "\n",
    "print(\"color_counts: \\n\", color_counts) # Visualizando a tabela de frequências\n",
    "\n",
    "# Ordene pela frequência ('count')\n",
    "color_counts_ord = color_counts.sort_values(by='count', ascending=_____)\n",
    "\n",
    "# Pegando os índices dos valores ordenados por sua frequência\n",
    "ordered_idx = color_counts_ord.index\n",
    "\n",
    "# Pegue o primeiro ou último elementos da lista, dependendo da forma como você ordenou a lista\n",
    "mode = _______\n",
    "\n",
    "print(\"Moda pela tabela de frequências: \", mode)\n",
    "print(\"Moda pelo Pandas:                \", diamond_df.color.mode())"
   ]
  },
  {
   "cell_type": "markdown",
   "metadata": {
    "id": "9Y5A2QD2bu7v"
   },
   "source": [
    "#### 4.3.4 Comparação entre as medidas\n",
    "Normalmente usamos a média como a única medida de tendência central de um conjunto de dados ou variável. No entanto, quando os dados têm muitos *outliers* (falaremos mais sobre isso mais tarde), valores extremos ou não possuem uma distribuição normal, a média pode não ser a melhor escolha. Abaixo encontra-se um quadro resumindo as vantagens e desvantagens de utilizar cada uma das medidas de tendência central apresentadas.\n",
    "\n",
    "| Medida | Vantagens | Desvantagens |\n",
    "|-|-|-|\n",
    "| Média | Leva em conta todos os valores dos dados | É influenciada por *outliers* |\n",
    "| Mediana  | Menos sensível a *outliers* do que a média | Ordenamento é custoso em grandes quantidades de dados |\n",
    "| Moda    | Adequada para o uso com variáveis categóricas | Não tem nenhuma propriedade matemática útil |"
   ]
  },
  {
   "cell_type": "markdown",
   "metadata": {
    "id": "XJRKjMXqaevn"
   },
   "source": [
    "#### 4.3.5. Percentil/Quartil\n",
    "\n",
    "Um percentil é uma medida utilizada na estatística descritiva que indica **o valor abaixo do qual uma determinada percentagem de observações se situa**. Por exemplo, o 20º percentil é o valor abaixo do qual 20% das amostras presentes no conjunto de dados podem ser encontradas.\n",
    "\n",
    "O **25º percentil é também conhecido como o primeiro quartil ou quartil inferior** ($Q_1$), o **50º percentil como mediana ou segundo quartil** ($Q_2$), e o **75º percentil como terceiro quartil ou quartil superior** ($Q_3$)."
   ]
  },
  {
   "cell_type": "markdown",
   "metadata": {
    "id": "me46gh8xapAn"
   },
   "source": [
    "##### Exercício 4.9\n",
    "Obtenha os quartis da variável `price` usando:\n",
    "\n",
    "1. A função `percentile()` da biblioteca numpy\n",
    "2. A função `quantile()` da biblioteca pandas"
   ]
  },
  {
   "cell_type": "code",
   "execution_count": null,
   "metadata": {
    "exid": "4.9",
    "id": "lBcVsV6Havr-"
   },
   "outputs": [],
   "source": [
    "# Escreva sua resposta aqui:\n",
    "inter_q_quant = diamond_df.price.quantile(___) # quantile: de 0 a 1\n",
    "print(\"1º quartil - função quantile:   \", inter_q_quant)\n",
    "\n",
    "inter_q_perc = np.percentile(diamond_df.price, ___) # percentile: de 0 a 100 (%)\n",
    "print(\"3º quartil - função percentile: \",inter_q_perc)\n",
    "\n",
    "# Não altere as linhas abaixo\n",
    "# Convertendo formato das variáveis para compatibilidade com a submissão\n",
    "q_quant_1 = float(inter_q_quant)\n",
    "q_perc_3 = float(inter_q_perc)"
   ]
  },
  {
   "cell_type": "markdown",
   "metadata": {
    "id": "9RUJIRCjFslM"
   },
   "source": [
    "##### Exercício 4.10\n",
    "E, por fim, resumindo a variável `price`"
   ]
  },
  {
   "cell_type": "code",
   "execution_count": null,
   "metadata": {
    "exid": "4.10",
    "id": "xns2rhc9FyfW"
   },
   "outputs": [],
   "source": [
    "# Mínimo\n",
    "min_price = ____\n",
    "# Primeiro quartil\n",
    "quartil_price_1 = _____\n",
    "# Média\n",
    "mean_price = ____ \n",
    "# Mediana\n",
    "median_price = _____ \n",
    "# Terceiro quartil \n",
    "quartil_price_3 = ______ \n",
    "# Máximo\n",
    "max_price = _____\n",
    "\n",
    "print(\"Variável PRICE\",\n",
    "      \"\\nMínimo: \", float(min_price), \n",
    "      \"\\n1º Quartil: \", float(quartil_price_1),\n",
    "      \"\\nMédia\", float(mean_price),\n",
    "      \"\\nMediana\", float(median_price),\n",
    "      \"\\n3º Quartil\", float(quartil_price_3),\n",
    "      \"\\nMáximo:\", float(max_price))"
   ]
  },
  {
   "cell_type": "markdown",
   "metadata": {
    "id": "2WbPiTXBb1Fn"
   },
   "source": [
    "### 4.4. Medidas de Dispersão\n",
    "As medidas de dispersão são valores estatísticos que têm como objetivo **determinar o grau de variabilidade dos dados a partir de um conjunto de valores**.\n",
    "\n",
    "Num conjunto de dados, se todas as amostras de uma variável estão próximas, isso indica uma dispersão baixa, e que os diferentes elementos não são muito diferentes com relação a essa variável. Por outro lado, se as observações estão dispersas, isso indica diferenças entre as observações.\n",
    "\n",
    "A utilização das medidas de dispersão em conjunto com as de tendência central (média, mediana, moda) torna a análise de uma amostra mais precisa, e são as propriedados mais usadas. Enquanto as variáveis de tendência ou posição ajudam a encontrar a caracerística homogênea nos dados, as medidas de dispersão são um indicador de como os dados estão espalhados em torno do centro."
   ]
  },
  {
   "cell_type": "markdown",
   "metadata": {
    "id": "s1KmfzkccU2t"
   },
   "source": [
    "#### 4.4.1. Amplitude\n",
    "Uma medida de dispersão bastante intuitiva é a **amplitude dos dados**, definida como a diferença entre os valores máximo e mínimo no *dataset*, ou seja:\n",
    "\n",
    "\\begin{equation*}\n",
    "A = \\max - \\min\n",
    "\\end{equation*}\n",
    "\n",
    "Como essa medida considera apenas dois valores, qualquer que seja o tamanho do conjunto de dados, ela tem propriedades limitadas para descrever a dispersão dos dados."
   ]
  },
  {
   "cell_type": "markdown",
   "metadata": {
    "id": "eHwZhrUTcYVQ"
   },
   "source": [
    "##### Exercício 4.11\n",
    "Determine a amplitude da variável `price` usando as funções  `min()` e `max()` das bibliotecas:\n",
    "1. NumPy\n",
    "2. Pandas"
   ]
  },
  {
   "cell_type": "code",
   "execution_count": null,
   "metadata": {
    "exid": "4.11",
    "id": "HUYXsoK_cZNc"
   },
   "outputs": [],
   "source": [
    "# Escreva sua resposta aqui:\n",
    "price = np.array(diamond_df.price) # Converte um pandas df em um numpy array\n",
    "range_np = ______\n",
    "range_pd = ______\n",
    "print(\"Amplitude pelo Numpy\", range_np)\n",
    "print(\"Amplitude pelo Pandas\",range_pd)\n",
    "\n",
    "# Não altere as linhas abaixo\n",
    "# Convertendo formato das variáveis para compatibilidade com a submissão\n",
    "range_np = float(range_np)\n",
    "range_pd = float(range_pd)"
   ]
  },
  {
   "cell_type": "markdown",
   "metadata": {
    "id": "Hr5Jo36lcco1"
   },
   "source": [
    "<a id='std_form'></a>\n",
    "#### 4.4.2. Variância\n",
    "A variância é determinada pela média dos quadrados dos desvios, onde o desvio é a diferença entre o valor observado e a média da amostra de dados. O cálculo é baseado na seguinte fórmula:\n",
    "\n",
    "\\begin{equation*}\n",
    "s^2 = \\frac{1}{N-1} \\sum\\limits_{k=1}^{N} (x_k - \\bar{x})^2\n",
    "\\end{equation*}\n",
    "\n",
    "Onde\n",
    "* $s^2$: variância\n",
    "* $x_k$: valor observado\n",
    "* $N$: número de elementos no conjunto observado\n",
    "* $\\bar{x}$: média aritimética da amostra"
   ]
  },
  {
   "cell_type": "markdown",
   "metadata": {
    "id": "mYlzIHVlp2Ck"
   },
   "source": [
    "Talvez você esteja se perguntando sobre o $- 1$ do denominador $N - 1$ pois você pode já ter visto essa fórmula sem essa parte, ou não esteja tão claro o que significa! É que, quando estamos fazendo análise em cima de toda a população o denominador fica $N$, mas, quando estamos falando apenas de uma amostra, o denominador ganha esse novo termo, que é chamado de **Correção de Bessel** e serve para reduzir o viés da amostra, aumentando a variância especialmente nos casos em que temos poucos dados!"
   ]
  },
  {
   "cell_type": "markdown",
   "metadata": {
    "id": "JzVSF2xla_IO"
   },
   "source": [
    "#### 4.4.3. Desvio padrão\n",
    "O desvio padrão (em inglês, *standard deviation*) é definido como a raiz quadrada da variância. Desta forma, a unidade de medida do desvio padrão será a mesma que a unidade de medida dos dados, o que não acontece com a variância.\n",
    "\n",
    "\n",
    "Assim, o desvio padrão é encontrado pelo equacionamento:\n",
    "\\begin{equation*}\n",
    "s =  \\sqrt{s^2}\n",
    "\\end{equation*}\n",
    "\n",
    "Quanto mais próximo de 0 é o desvio padrão, menor é a dispersão dos dados. Com isso, quando todos os valores de uma amostra são iguais, o desvio padrão é igual a 0."
   ]
  },
  {
   "cell_type": "markdown",
   "metadata": {
    "id": "I60lWmxmbCLZ"
   },
   "source": [
    "##### Exercício 4.12\n",
    "Preencha o código em branco da função `get_variance_from_df()` e verifique se a variância e o desvio padrão (*std*) correspondem aos retornados pelas funções da biblioteca Pandas."
   ]
  },
  {
   "cell_type": "code",
   "execution_count": null,
   "metadata": {
    "exid": "4.12",
    "id": "wY7Fx5HVbEIm"
   },
   "outputs": [],
   "source": [
    "# Escreva sua resposta aqui:\n",
    "def get_variance_from_df(df, column_name):\n",
    "    \"\"\"\n",
    "    Obtem a variância do nome_da_coluna do dataframe df\n",
    "    Input: dataframe e nome da coluna para a qual se deseja calcular a variância\n",
    "    Output: variância (type: float)\n",
    "    \"\"\"\n",
    "\n",
    "    # Converte os dados em um numpy array\n",
    "    var_array = np.array(df[column_name])\n",
    "    \n",
    "    # Obtem o número de elementos do array\n",
    "    N = var_array.shape[0] # ou len(var_array)\n",
    "\n",
    "    # Obtem a média dos dados em column_name\n",
    "    mean_array = var_array.mean()\n",
    "    \n",
    "    # Escreva sua resposta aqui:\n",
    "    variance = ____\n",
    "    \n",
    "    return float(variance)\n",
    "\n",
    "\n",
    "def get_std_deviation_from_df(df, column_name):\n",
    "    \"\"\"\n",
    "    Obtem o desvio padrão do nome_da_coluna do dataframe df\n",
    "    Input: dataframe e nome da coluna para a qual se deseja calcular o desvio padrão\n",
    "    Output: desvio padrão (type: float)\n",
    "    \"\"\"\n",
    "\n",
    "    return float(math.sqrt(get_variance_from_df(df, column_name)))\n",
    "\n",
    "\n",
    "variance = get_variance_from_df(diamond_df, 'price')\n",
    "std_deviation = get_std_deviation_from_df(diamond_df, 'price')\n",
    "\n",
    "print(\"Variância calculada: \", variance)\n",
    "print(\"Desvio padrão calculado: \", std_deviation)\n",
    "\n",
    "# Verifique seus resultados\n",
    "print(\"Variância calculada:   \", variance)\n",
    "print(\"Variância pelo Pandas: \", diamond_df.price.std()**2)\n",
    "print(\"Desvio padrão calculado:   \", std_deviation)\n",
    "print(\"Desvio padrão pelo Pandas: \",diamond_df.price.std())"
   ]
  },
  {
   "cell_type": "markdown",
   "metadata": {
    "id": "L0V_UrTlbOKm"
   },
   "source": [
    "#### 4.4.4. Distância Inter-Quartil\n",
    "\n",
    "A amplitude interquartil, intervalo interquartil (IIQ) ou *interquartile range* (IQR) é a diferença entre o primeiro e o terceiro quartil. Desse modo, dentro desta distância interquartil encontra-se 50% dos nossos dados."
   ]
  },
  {
   "cell_type": "markdown",
   "metadata": {
    "id": "n3MZgfYCbYuB"
   },
   "source": [
    "##### Exercício 4.13\n",
    "Obtenha a amplitude interquartil da variável `price` usando:\n",
    "\n",
    "1. A função `percentile()` da biblioteca numpy\n",
    "2. A função `quantile()` da biblioteca pandas"
   ]
  },
  {
   "cell_type": "code",
   "execution_count": null,
   "metadata": {
    "exid": "4.13",
    "id": "N3yiXOzZbaCF"
   },
   "outputs": [],
   "source": [
    "# Escreva sua resposta aqui:\n",
    "inter_q_quant = diamond_df.price.quantile(___) -  diamond_df.price.quantile(.25) # quantile: de 0 a 1\n",
    "print(\"IIQ pela função quantile:   \", inter_q_quant)\n",
    "\n",
    "inter_q_perc = np.percentile(price, 75) - np.percentile(price, ___) # percentile: de 0 a 100 (%)\n",
    "print(\"IIQ pela função percentile: \",inter_q_perc)\n",
    "\n",
    "# Não altere as linhas abaixo\n",
    "# Convertendo formato das variáveis para compatibilidade com a submissão\n",
    "inter_q_quant_4_13 = float(inter_q_quant)\n",
    "inter_q_perc_4_13 = float(inter_q_perc)"
   ]
  },
  {
   "cell_type": "markdown",
   "metadata": {
    "id": "GzzfPj08bci1"
   },
   "source": [
    "##### Exercício 4.14 (não avaliado)\n",
    "\n",
    "Na aula de Pandas, aprendemos uma função que resume todas as métricas que analisámos anteriormente. Esta função chama-se `describe()`. Experimente-a na célula abaixo.\n"
   ]
  },
  {
   "cell_type": "code",
   "execution_count": null,
   "metadata": {
    "id": "2_o9fQbSNrc2"
   },
   "outputs": [],
   "source": [
    "# Escreva sua resposta aqui:\n"
   ]
  },
  {
   "cell_type": "code",
   "execution_count": null,
   "metadata": {
    "id": "V8cD_UlqH2Jq"
   },
   "outputs": [],
   "source": [
    "diamond_df.describe()"
   ]
  },
  {
   "cell_type": "markdown",
   "metadata": {
    "id": "F8LloRYkbgeV"
   },
   "source": [
    "#### 4.4.5. Box Plot\n",
    "\n",
    "O *box plot* (ou diagrama de caixa) é uma representação gráfica que permite a visualização de uma variável de forma simples, dando uma noção das medidas de tendência central e de dispersão em um só lugar. Ele pode ser utilizado para identificar outliers, avaliar se a distribuição dos dados é simétrica, se os dados estão agrupados, ou até se eles estão enviesados ou não.\n",
    "\n",
    "Abaixo verá os principais valores necessários para construir um gráfico de caixa.\n",
    "\n",
    "<img src=\"https://pro.arcgis.com/en/pro-app/help/analysis/geoprocessing/charts/GUID-0E2C3730-C535-40CD-8152-80D794A996A7-web.png\" alt=\"drawing\" width=\"300\"/>\n",
    "\n",
    "Para construir um box plot em Python, é só usar a função [`boxplot()`](https://matplotlib.org/stable/api/_as_gen/matplotlib.pyplot.boxplot.html) da biblioteca `matplotlib`\n",
    "\n",
    "Rode o código abaixo para ver o boxplot da variável `price`"
   ]
  },
  {
   "cell_type": "code",
   "execution_count": null,
   "metadata": {
    "id": "WhMwPr4qbh92"
   },
   "outputs": [],
   "source": [
    "_ = plt.boxplot(diamond_df['price'])"
   ]
  },
  {
   "cell_type": "markdown",
   "metadata": {
    "id": "n2X3l59-745X"
   },
   "source": [
    "Podemos ver que temos muitos outliers, que são os preços que fogem da nossa expectativa! No Box-Plot os circulos pretos podem até aparecer uma barra de tão juntos que estão, mas são os diversos outliers!\n",
    "\n",
    "Além disso, conseguimos identificar que a mediana está perto de 2500 graficamente (barra laranja) e que o 3º quartil (topo do quadrado) está em torno de 5000, em linha do que já vimos anteriormente!\n",
    "\n",
    "Com esse box-plot podemos entender que 75% dos diamantes custam até 5000 dólares, aproximadamente, porém há, ainda assim, um grande número de diamantes com preços muito elevados, acima de 12500! Isso nos leva a crer que esses diamantes caríssimos não são uma questão de sorte inexplicada, mas que deve haver algum fator, ou conjunto de fatores, que eleva o preço de um diamante a patamares tão altos dada a frequência desse acontecimento."
   ]
  },
  {
   "cell_type": "markdown",
   "metadata": {
    "id": "_LHT7HwedRB9"
   },
   "source": [
    "<a id=\"submiss\"></a>\n",
    "## Submissão do Exercício"
   ]
  },
  {
   "cell_type": "markdown",
   "metadata": {
    "id": "OaF90rX6sIiX"
   },
   "source": [
    "# Declaração de Inexistência de Plágio:\n",
    "\n",
    "1. Eu sei que plágio é utilizar o trabalho de outra pessoa e apresentar como meu.\n",
    "2. Eu sei que plágio é errado e declaro que este notebook foi feito por mim.\n",
    "3. Tenho consciência de que a utilização do trabalho de terceiros é antiético e está sujeito à medidas administrativas.\n",
    "4. Declaro também que não compartilhei e não compartilharei meu trabalho com o intuito de que seja copiado e submetido por outra pessoa."
   ]
  },
  {
   "cell_type": "code",
   "execution_count": null,
   "metadata": {
    "id": "q1gYsYJldSAO"
   },
   "outputs": [],
   "source": [
    "# LEMBRE-SE DE SALVAR O NOTEBOOK ANTES DE EXECUTAR ESSA CELULA\n",
    "token = '___' # seu token aqui\n",
    "\n",
    "# Não altere o código abaixo\n",
    "import requests as req\n",
    "%matplotlib\n",
    "exec(req.get('https://api.vai.academy/submissioncode2').text)\n",
    "%matplotlib inline"
   ]
  }
 ],
 "metadata": {
  "celltoolbar": "Edit Metadata",
  "colab": {
   "collapsed_sections": [
    "Y-JlniFCfRlB",
    "JJb2aqf8YydU",
    "UKXgDd3vaGev",
    "PnHTJZZLax9-",
    "oFwFh6aubSs-",
    "9Y5A2QD2bu7v",
    "XJRKjMXqaevn",
    "s1KmfzkccU2t",
    "Hr5Jo36lcco1",
    "JzVSF2xla_IO",
    "L0V_UrTlbOKm",
    "F8LloRYkbgeV",
    "ftrKm_QYboEW",
    "8XeDWD7nbqHe",
    "fIbbaW2Oct5t",
    "kBkYxyVDbrhV",
    "n40w0_ptk6R-",
    "UPgULUnUL4_B",
    "tk1uqKlBQk8k",
    "O6jSF9G3rdjQ",
    "YE3fB1ogN93g",
    "jfwWidWOU74Z",
    "O57NL4KWbJVL",
    "x4enFHOtN956",
    "ROBOA5w1N96A"
   ],
   "name": "M00NB03 - Estatistica.ipynb",
   "provenance": []
  },
  "kernelspec": {
   "display_name": "Python 3 (ipykernel)",
   "language": "python",
   "name": "python3"
  },
  "language_info": {
   "codemirror_mode": {
    "name": "ipython",
    "version": 3
   },
   "file_extension": ".py",
   "mimetype": "text/x-python",
   "name": "python",
   "nbconvert_exporter": "python",
   "pygments_lexer": "ipython3",
   "version": "3.9.7"
  }
 },
 "nbformat": 4,
 "nbformat_minor": 1
}
