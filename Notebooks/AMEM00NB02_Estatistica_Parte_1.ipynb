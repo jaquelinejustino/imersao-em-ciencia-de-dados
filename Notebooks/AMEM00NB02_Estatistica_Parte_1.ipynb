{
  "cells": [
    {
      "cell_type": "markdown",
      "metadata": {
        "id": "njbaOrWPNhFi"
      },
      "source": [
        "# <center>VAI Academy</center>\n",
        "# <center> Estatística - Parte 1</center>\n",
        "___\n",
        "Todo o conteúdo que você terá acesso ao longo desse período é confidencial, não sendo possível compartilhar ou comercializar os links ou os materiais recebidos que sejam de propriedade da VAI Academy. \n",
        "\n",
        "Dessa forma, ao participar do curso você está aceitando os termos de confidencialidade e não-comercialização dos conteúdos que serão recebidos.\n",
        "___\n",
        "# <center> Objetivos de aprendizado </center>\n",
        "- Compreender os conceitos básicos de estatística (e.g. média, mediana, variância, desvio padrão, correlação)\n",
        "- Compreender os conceitos básicos de probabilidade e sua relação com a estatística\n",
        "- Formar hipóteses, conhecer e analisar os tipos de erros\n",
        "___\n",
        "\n",
        "## Sumário\n",
        "1. [Objetivo](#obj)\n",
        "2. [Introdução e contextualização](#contexto)\n",
        "3. [Dataset e Bibliotecas](#dataset)\n",
        "4. [Estatística descritiva](#descstats)\n",
        "\n",
        "\n",
        "**Os conceitos que você vai aprender nessa aula terão grande utilidade em outras etapas da ciência de dados!**"
      ]
    },
    {
      "cell_type": "markdown",
      "metadata": {
        "id": "G0clNAuvNtKn"
      },
      "source": [
        "<a id='obj'></a>\n",
        "## 1. Objetivo\n",
        "\n",
        "Nessa aula, nós apresentaremos uma introdução ao campo da **Estatística e sua aplicação à Ciência de Dados**. Vocês vão ver que usaremos muito do que aprendemos sobre **Python, Numpy e Pandas**, então, recomendamos que você acabe a aula anterior antes de se aventurar por essa aula.\n",
        "\n",
        "No final deste notebook você será capaz de:\n",
        "* Entender a importância da Estatística para a Ciência de Dados\n",
        "* Usar Python como uma ferramenta para analisar dados e realizar análises estatísticas descritivas\n",
        "* Ter um bom entendimento sobre os fundamentos da teoria da probabilidade e como usar Python para te ajudar nisso\n",
        "* Saber formular hipóteses e identificar os tipos de erros\n",
        "\n",
        "Antes de mais nada, essa aula não tem como objetivo que você saia sabendo tudo sobre Estatística (até porque é um campo de estudo gigantesco!). Então não se preocupe se não entender de primeira os conceitos apresentados aqui, até porque eles não são tão simples e levam um certo tempo para internalizar.\n",
        "\n",
        "Mas não esqueça, se tiver alguma dúvida, não deixe de mandar suas dúvidas no canal do Discord! E boa aula!\n",
        "\n",
        "Para iniciar, sugerimos que veja o vídeo a seguir sobre o tema da aula."
      ]
    },
    {
      "cell_type": "code",
      "execution_count": null,
      "metadata": {
        "id": "kXRnwAGoOVwt",
        "outputId": "93f0ca0e-5555-4400-b394-c7f175f23cb5",
        "colab": {
          "base_uri": "https://localhost:8080/",
          "height": 471
        }
      },
      "outputs": [
        {
          "output_type": "execute_result",
          "data": {
            "text/plain": [
              "<IPython.lib.display.YouTubeVideo at 0x7ff6c9776510>"
            ],
            "text/html": [
              "\n",
              "        <iframe\n",
              "            width=\"800\"\n",
              "            height=\"450\"\n",
              "            src=\"https://www.youtube.com/embed/WZXP0UegdBg\"\n",
              "            frameborder=\"0\"\n",
              "            allowfullscreen\n",
              "        ></iframe>\n",
              "        "
            ],
            "image/jpeg": "[encoded data removed]"
          },
          "metadata": {},
          "execution_count": 1
        }
      ],
      "source": [
        "from IPython.display import YouTubeVideo\n",
        "\n",
        "YouTubeVideo('WZXP0UegdBg', width=800, height=450)"
      ]
    },
    {
      "cell_type": "markdown",
      "metadata": {
        "id": "tnRsl-jZOA4G"
      },
      "source": [
        "<a id=\"contexto\"></a>\n",
        "## 2. Introdução e Contextualização\n",
        "\n",
        "### 2.1. O que é a estatística\n",
        "A estatística é a ciência que estuda os dados, partindo desde a coleta e organização de dados, a apresentação, interpretação e análise dos mesmos a fim de encontrar relações entre eles e **informações**. \n",
        "\n",
        "Esses dados se referem a uma **população**, que é um conjunto de indivíduos ou objetos que possuem ao menos uma **característica comum**. Geralmente lidamos com subgrupos dessa população, que chamamos de **amostra** (ou, do inglês, *sample*). Mesmo amostras pequenas de dados podem nos ajudar a extrair informações sobre toda a população, mas é importante saber escolher bem a amostra para evitar que **viéses** surjam para atrapalharem nossas decisões!\n",
        "\n",
        "O viés é justamente a distância que nossa amostra está da nossa população, e o processo de adquirir amostras é chamado de amostragem, ou **sampling**.\n",
        "\n",
        "Na primeira parte dessa aula falaremos da redução, análise e interpretação de dados, que é chamada de *análise exploratória de dados*, ou estatística descritiva e falaremos mais ainda sobre essa parte em aulas futuras. Na segunda parte, exploraremos a *análise confirmatória de dados*, ou inferência estatística.\n",
        "\n",
        "### 2.2. Como a Estatística se relaciona com a Ciência de Dados?\n",
        "Essa é uma ótima pergunta! Antes de respondê-la, iremos falar brevemente  das diferenças entre os tão comentados termos **Inteligência Artificial (AI), Data Science, Machine Learning e Deep Learning**. Seriam eles apenas palavras da moda para se referir à mesma coisa? Ou até só uma forma de glamourizar temas já estudados na Estatísitca??\n",
        "\n",
        "<img src=https://i.imgur.com/X3UnCMO.jpg alt=\"drawing\" width=\"300\"/>\n",
        "\n",
        "Bom, não vamos mergulhar profundamente nos detalhes e diferenças entre estes (relativamente novos) assuntos. Em primeiro lugar, porque essas definições ainda **não estão bem estabelecidas** e não há um consenso entre os especialistas. Em segundo lugar, porque iremos cobrir melhor alguns desses assuntos com maior profundidade em outras aulas.\n",
        "\n",
        "Você pode pensar em **deep learning como um subconjunto de machine learning**, e **machine learning como um subconjunto de inteligência artificial**.\n",
        "\n",
        "Este último conceito engloba todo e qualquer programa de computador que faça \"algo inteligente\", enquanto Machine Learning pode ser definido como:\n",
        "\n",
        "> Machine Learning é o estudo de algoritmos de computador que melhoram automaticamente por meio da experiência.\n",
        "<br>(Tom M. Mitchell, Machine Learning, McGraw Hill, 1991)\n",
        "\n",
        "Já Deep learning lida com uma subclasse de algoritmos de machine learning em profundidade (principalmente redes neurais, que iremos cobrir em lições futuras).\n",
        "\n",
        "Finalmente, a **Estatística** entra na jogada, pois a maioria dos algoritmos de machine learning tem a sua base em **Estatística** e surgiram inicialmente dentro dela antes de virar todo um campo de estudo.\n",
        "\n",
        "Por fim, a **Ciência de Dados** é um campo multidisciplinar que combina ciência da computação, estatística e conhecimento de domínios para obter insights a partir de dados. Que tal um lindo diagrama Venn para melhor ilustrar isso?\n",
        "\n",
        "<img src=https://miro.medium.com/max/3000/1*mgXvzNcwfpnBawI6XTkVRg.png alt=\"drawing\" width=\"400\"/>\n",
        "\n",
        "Agora que você sabe aonde estamos inseridos, e a importância da Estatística para Data Science, podemos começar o aprendizado!!"
      ]
    },
    {
      "cell_type": "markdown",
      "metadata": {
        "id": "1YCOvt9-ZoK3"
      },
      "source": [
        "<a id='dataset'></a>\n",
        "## 3. Dataset e Bibliotecas\n",
        "Para esta aula, utilizaremos um [dataset do Kaggle](https://www.kaggle.com/shivam2503/diamonds). Se você ainda não o conhece, o [Kaggle](https://www.kaggle.com/) é um site fantástico para fazer **projetos de ciência de dados**, explorar os projetos de outras pessoas, conhecer pessoas e conversar em fóruns, participar de **competições de Data Science** e até ganhar prêmios! Quem sabe até o final do curso da VAI Academy, você poderá até ser capaz de ganhar um desses concursos!\n",
        "\n",
        "Sabemos que a primeira vista, o Kaggle pode parecer ameaçador para quem não tem experiência, por estar cheio de projetos complexos e especialistas em Data Science competindo há algum tempo, mas não se assuste! A melhor forma de aprender Data Science é com a prática, e o Kaggle é um ótimo lugar para isso. Uma boa forma de começar é com alguns projetos simples (você pode ver algumas referências no link de [Datasets e Notebooks tutoriais no Kaggle para iniciantes](https://www.kaggle.com/m2skills/datasets-and-tutorial-kernels-for-beginners)) ou entrando no curso da VAI Academy!\n",
        "\n",
        "O dataset com o qual iremos trabalhar nessa aula contém características de diamantes. O arquivo está em anexo e se chama `diamonds.csv`! Caso prefira, você pode baixar do próprio Kaggle após criar uma conta no site e clicar em download para baixar o arquivo no link acima! As colunas do dataset são as seguintes:\n",
        "\n",
        "1. **carat**: são os quilates do diamante, um indicador de peso. Um quilate equivale à 200 gramas.\n",
        "2. **cut**: Classificação de qualidade do diamante, onde a ordem de pior para melhor qualidade é Fair, Good, Very Good, Premium, Ideal\n",
        "3. **color**: classificação da cor do diamante, vai em ordem alfabética onde D é a melhor qualidade e J a pior\n",
        "4. **clarity**: indica o quão livre de impurezas o diamante é, a ordem de melhor para pior é FL, IF, VVS1, VVS2, VS1, VS2, SI1, SI2, I1, I2, I3\n",
        "5. **depth**: a altura do diamante, dividida pelo diâmetro\n",
        "6. **table**: a largura do diamante, dividida pelo diâmetro\n",
        "7. **price**: preço do diamante em dólares\n",
        "8. **x**: largura em mm\n",
        "9. **y**: altura em mm\n",
        "10. **z**: profundidade em mm\n",
        "\n",
        "Além disso também uma coluna sem nome que contém o número da linha. Podemos ignorá-la sem problemas!"
      ]
    },
    {
      "cell_type": "markdown",
      "metadata": {
        "id": "8Hk7NPObZrWT"
      },
      "source": [
        "Dado que estamos trabalhando com Estatística, além das bibliotecas NumPy e Pandas, iremos utilizar algumas bibliotecas comuns para usar algumas funções úteis para nós. Estas são:\n",
        "* **Math**: possui uma ampla variedade de funções matemáticas tais como exponencial (exp), raiz quadrada (sqrt), ...\n",
        "* **SciPy**: biblioteca fundamental para computação científica (também nos fornece funções estatísticas)\n",
        "* **Random**: biblioteca útil para gerar números aleatórios\n",
        "* **Matplotlib**: uma das bibliotecas mais populares para plotagem de gráficos em Python\n",
        "\n",
        "Além disso, não se preocupe se não compreender completamente os códigos para a plotagem nessa aula. Nas próximas aulas explicaremos melhor como fazer os mais diversos plots. Foque em tentar entender os conceitos e a lógica dos códigos."
      ]
    },
    {
      "cell_type": "markdown",
      "metadata": {
        "id": "i5BQbmvAZuSE"
      },
      "source": [
        "#### Exercício de aquecimento\n",
        "Importe NumPy e Pandas, e printe as 10 primeiras linhas do dataset (usando o comando `head()` - não há necessidade de usar a função `print()`)."
      ]
    },
    {
      "cell_type": "code",
      "source": [
        "from google.colab import drive\n",
        "drive.mount('/content/drive')"
      ],
      "metadata": {
        "colab": {
          "base_uri": "https://localhost:8080/"
        },
        "id": "trkdFjn30NG4",
        "outputId": "88f7f106-5b2e-45c6-c093-7ba258e3f6df"
      },
      "execution_count": null,
      "outputs": [
        {
          "output_type": "stream",
          "name": "stdout",
          "text": [
            "Mounted at /content/drive\n"
          ]
        }
      ]
    },
    {
      "cell_type": "code",
      "execution_count": null,
      "metadata": {
        "id": "nnKqLF80Zu9e",
        "colab": {
          "base_uri": "https://localhost:8080/",
          "height": 363
        },
        "outputId": "ee888eed-7d69-4592-b8d4-652c2cb3302c"
      },
      "outputs": [
        {
          "output_type": "execute_result",
          "data": {
            "text/plain": [
              "   Unnamed: 0  carat        cut color clarity  depth  table  price     x  \\\n",
              "0           1   0.23      Ideal     E     SI2   61.5   55.0    326  3.95   \n",
              "1           2   0.21    Premium     E     SI1   59.8   61.0    326  3.89   \n",
              "2           3   0.23       Good     E     VS1   56.9   65.0    327  4.05   \n",
              "3           4   0.29    Premium     I     VS2   62.4   58.0    334  4.20   \n",
              "4           5   0.31       Good     J     SI2   63.3   58.0    335  4.34   \n",
              "5           6   0.24  Very Good     J    VVS2   62.8   57.0    336  3.94   \n",
              "6           7   0.24  Very Good     I    VVS1   62.3   57.0    336  3.95   \n",
              "7           8   0.26  Very Good     H     SI1   61.9   55.0    337  4.07   \n",
              "8           9   0.22       Fair     E     VS2   65.1   61.0    337  3.87   \n",
              "9          10   0.23  Very Good     H     VS1   59.4   61.0    338  4.00   \n",
              "\n",
              "      y     z  \n",
              "0  3.98  2.43  \n",
              "1  3.84  2.31  \n",
              "2  4.07  2.31  \n",
              "3  4.23  2.63  \n",
              "4  4.35  2.75  \n",
              "5  3.96  2.48  \n",
              "6  3.98  2.47  \n",
              "7  4.11  2.53  \n",
              "8  3.78  2.49  \n",
              "9  4.05  2.39  "
            ],
            "text/html": [
              "\n",
              "  <div id=\"df-907b98d5-ba14-4d98-a550-2d70050eacb4\">\n",
              "    <div class=\"colab-df-container\">\n",
              "      <div>\n",
              "<style scoped>\n",
              "    .dataframe tbody tr th:only-of-type {\n",
              "        vertical-align: middle;\n",
              "    }\n",
              "\n",
              "    .dataframe tbody tr th {\n",
              "        vertical-align: top;\n",
              "    }\n",
              "\n",
              "    .dataframe thead th {\n",
              "        text-align: right;\n",
              "    }\n",
              "</style>\n",
              "<table border=\"1\" class=\"dataframe\">\n",
              "  <thead>\n",
              "    <tr style=\"text-align: right;\">\n",
              "      <th></th>\n",
              "      <th>Unnamed: 0</th>\n",
              "      <th>carat</th>\n",
              "      <th>cut</th>\n",
              "      <th>color</th>\n",
              "      <th>clarity</th>\n",
              "      <th>depth</th>\n",
              "      <th>table</th>\n",
              "      <th>price</th>\n",
              "      <th>x</th>\n",
              "      <th>y</th>\n",
              "      <th>z</th>\n",
              "    </tr>\n",
              "  </thead>\n",
              "  <tbody>\n",
              "    <tr>\n",
              "      <th>0</th>\n",
              "      <td>1</td>\n",
              "      <td>0.23</td>\n",
              "      <td>Ideal</td>\n",
              "      <td>E</td>\n",
              "      <td>SI2</td>\n",
              "      <td>61.5</td>\n",
              "      <td>55.0</td>\n",
              "      <td>326</td>\n",
              "      <td>3.95</td>\n",
              "      <td>3.98</td>\n",
              "      <td>2.43</td>\n",
              "    </tr>\n",
              "    <tr>\n",
              "      <th>1</th>\n",
              "      <td>2</td>\n",
              "      <td>0.21</td>\n",
              "      <td>Premium</td>\n",
              "      <td>E</td>\n",
              "      <td>SI1</td>\n",
              "      <td>59.8</td>\n",
              "      <td>61.0</td>\n",
              "      <td>326</td>\n",
              "      <td>3.89</td>\n",
              "      <td>3.84</td>\n",
              "      <td>2.31</td>\n",
              "    </tr>\n",
              "    <tr>\n",
              "      <th>2</th>\n",
              "      <td>3</td>\n",
              "      <td>0.23</td>\n",
              "      <td>Good</td>\n",
              "      <td>E</td>\n",
              "      <td>VS1</td>\n",
              "      <td>56.9</td>\n",
              "      <td>65.0</td>\n",
              "      <td>327</td>\n",
              "      <td>4.05</td>\n",
              "      <td>4.07</td>\n",
              "      <td>2.31</td>\n",
              "    </tr>\n",
              "    <tr>\n",
              "      <th>3</th>\n",
              "      <td>4</td>\n",
              "      <td>0.29</td>\n",
              "      <td>Premium</td>\n",
              "      <td>I</td>\n",
              "      <td>VS2</td>\n",
              "      <td>62.4</td>\n",
              "      <td>58.0</td>\n",
              "      <td>334</td>\n",
              "      <td>4.20</td>\n",
              "      <td>4.23</td>\n",
              "      <td>2.63</td>\n",
              "    </tr>\n",
              "    <tr>\n",
              "      <th>4</th>\n",
              "      <td>5</td>\n",
              "      <td>0.31</td>\n",
              "      <td>Good</td>\n",
              "      <td>J</td>\n",
              "      <td>SI2</td>\n",
              "      <td>63.3</td>\n",
              "      <td>58.0</td>\n",
              "      <td>335</td>\n",
              "      <td>4.34</td>\n",
              "      <td>4.35</td>\n",
              "      <td>2.75</td>\n",
              "    </tr>\n",
              "    <tr>\n",
              "      <th>5</th>\n",
              "      <td>6</td>\n",
              "      <td>0.24</td>\n",
              "      <td>Very Good</td>\n",
              "      <td>J</td>\n",
              "      <td>VVS2</td>\n",
              "      <td>62.8</td>\n",
              "      <td>57.0</td>\n",
              "      <td>336</td>\n",
              "      <td>3.94</td>\n",
              "      <td>3.96</td>\n",
              "      <td>2.48</td>\n",
              "    </tr>\n",
              "    <tr>\n",
              "      <th>6</th>\n",
              "      <td>7</td>\n",
              "      <td>0.24</td>\n",
              "      <td>Very Good</td>\n",
              "      <td>I</td>\n",
              "      <td>VVS1</td>\n",
              "      <td>62.3</td>\n",
              "      <td>57.0</td>\n",
              "      <td>336</td>\n",
              "      <td>3.95</td>\n",
              "      <td>3.98</td>\n",
              "      <td>2.47</td>\n",
              "    </tr>\n",
              "    <tr>\n",
              "      <th>7</th>\n",
              "      <td>8</td>\n",
              "      <td>0.26</td>\n",
              "      <td>Very Good</td>\n",
              "      <td>H</td>\n",
              "      <td>SI1</td>\n",
              "      <td>61.9</td>\n",
              "      <td>55.0</td>\n",
              "      <td>337</td>\n",
              "      <td>4.07</td>\n",
              "      <td>4.11</td>\n",
              "      <td>2.53</td>\n",
              "    </tr>\n",
              "    <tr>\n",
              "      <th>8</th>\n",
              "      <td>9</td>\n",
              "      <td>0.22</td>\n",
              "      <td>Fair</td>\n",
              "      <td>E</td>\n",
              "      <td>VS2</td>\n",
              "      <td>65.1</td>\n",
              "      <td>61.0</td>\n",
              "      <td>337</td>\n",
              "      <td>3.87</td>\n",
              "      <td>3.78</td>\n",
              "      <td>2.49</td>\n",
              "    </tr>\n",
              "    <tr>\n",
              "      <th>9</th>\n",
              "      <td>10</td>\n",
              "      <td>0.23</td>\n",
              "      <td>Very Good</td>\n",
              "      <td>H</td>\n",
              "      <td>VS1</td>\n",
              "      <td>59.4</td>\n",
              "      <td>61.0</td>\n",
              "      <td>338</td>\n",
              "      <td>4.00</td>\n",
              "      <td>4.05</td>\n",
              "      <td>2.39</td>\n",
              "    </tr>\n",
              "  </tbody>\n",
              "</table>\n",
              "</div>\n",
              "      <button class=\"colab-df-convert\" onclick=\"convertToInteractive('df-907b98d5-ba14-4d98-a550-2d70050eacb4')\"\n",
              "              title=\"Convert this dataframe to an interactive table.\"\n",
              "              style=\"display:none;\">\n",
              "        \n",
              "  <svg xmlns=\"http://www.w3.org/2000/svg\" height=\"24px\"viewBox=\"0 0 24 24\"\n",
              "       width=\"24px\">\n",
              "    <path d=\"M0 0h24v24H0V0z\" fill=\"none\"/>\n",
              "    <path d=\"M18.56 5.44l.94 2.06.94-2.06 2.06-.94-2.06-.94-.94-2.06-.94 2.06-2.06.94zm-11 1L8.5 8.5l.94-2.06 2.06-.94-2.06-.94L8.5 2.5l-.94 2.06-2.06.94zm10 10l.94 2.06.94-2.06 2.06-.94-2.06-.94-.94-2.06-.94 2.06-2.06.94z\"/><path d=\"M17.41 7.96l-1.37-1.37c-.4-.4-.92-.59-1.43-.59-.52 0-1.04.2-1.43.59L10.3 9.45l-7.72 7.72c-.78.78-.78 2.05 0 2.83L4 21.41c.39.39.9.59 1.41.59.51 0 1.02-.2 1.41-.59l7.78-7.78 2.81-2.81c.8-.78.8-2.07 0-2.86zM5.41 20L4 18.59l7.72-7.72 1.47 1.35L5.41 20z\"/>\n",
              "  </svg>\n",
              "      </button>\n",
              "      \n",
              "  <style>\n",
              "    .colab-df-container {\n",
              "      display:flex;\n",
              "      flex-wrap:wrap;\n",
              "      gap: 12px;\n",
              "    }\n",
              "\n",
              "    .colab-df-convert {\n",
              "      background-color: #E8F0FE;\n",
              "      border: none;\n",
              "      border-radius: 50%;\n",
              "      cursor: pointer;\n",
              "      display: none;\n",
              "      fill: #1967D2;\n",
              "      height: 32px;\n",
              "      padding: 0 0 0 0;\n",
              "      width: 32px;\n",
              "    }\n",
              "\n",
              "    .colab-df-convert:hover {\n",
              "      background-color: #E2EBFA;\n",
              "      box-shadow: 0px 1px 2px rgba(60, 64, 67, 0.3), 0px 1px 3px 1px rgba(60, 64, 67, 0.15);\n",
              "      fill: #174EA6;\n",
              "    }\n",
              "\n",
              "    [theme=dark] .colab-df-convert {\n",
              "      background-color: #3B4455;\n",
              "      fill: #D2E3FC;\n",
              "    }\n",
              "\n",
              "    [theme=dark] .colab-df-convert:hover {\n",
              "      background-color: #434B5C;\n",
              "      box-shadow: 0px 1px 3px 1px rgba(0, 0, 0, 0.15);\n",
              "      filter: drop-shadow(0px 1px 2px rgba(0, 0, 0, 0.3));\n",
              "      fill: #FFFFFF;\n",
              "    }\n",
              "  </style>\n",
              "\n",
              "      <script>\n",
              "        const buttonEl =\n",
              "          document.querySelector('#df-907b98d5-ba14-4d98-a550-2d70050eacb4 button.colab-df-convert');\n",
              "        buttonEl.style.display =\n",
              "          google.colab.kernel.accessAllowed ? 'block' : 'none';\n",
              "\n",
              "        async function convertToInteractive(key) {\n",
              "          const element = document.querySelector('#df-907b98d5-ba14-4d98-a550-2d70050eacb4');\n",
              "          const dataTable =\n",
              "            await google.colab.kernel.invokeFunction('convertToInteractive',\n",
              "                                                     [key], {});\n",
              "          if (!dataTable) return;\n",
              "\n",
              "          const docLinkHtml = 'Like what you see? Visit the ' +\n",
              "            '<a target=\"_blank\" href=https://colab.research.google.com/notebooks/data_table.ipynb>data table notebook</a>'\n",
              "            + ' to learn more about interactive tables.';\n",
              "          element.innerHTML = '';\n",
              "          dataTable['output_type'] = 'display_data';\n",
              "          await google.colab.output.renderOutput(dataTable, element);\n",
              "          const docLink = document.createElement('div');\n",
              "          docLink.innerHTML = docLinkHtml;\n",
              "          element.appendChild(docLink);\n",
              "        }\n",
              "      </script>\n",
              "    </div>\n",
              "  </div>\n",
              "  "
            ]
          },
          "metadata": {},
          "execution_count": 4
        }
      ],
      "source": [
        "# Importando as bibliotecas utilizadas\n",
        "# OBS: É uma boa prática importar todas as bibliotecas necessárias\n",
        "# em uma célula única no começo do notebook\n",
        "import math\n",
        "import matplotlib.pyplot as plt\n",
        "from numpy.random import seed, rand, normal, exponential, binomial, poisson\n",
        "import random\n",
        "import scipy.stats as stats\n",
        "from scipy.stats import ttest_ind, normaltest, pearsonr\n",
        "\n",
        "# Printar os plots dentro das células do notebook\n",
        "%matplotlib inline\n",
        "\n",
        "# Escreva sua resposta aqui:\n",
        "import numpy as np # Importe NumPy\n",
        "import pandas as pd # Importe Pandas\n",
        "\n",
        "# No Google Colab, lembre-se de fazer o upload o arquivo de dados\n",
        "diamond_df = pd.read_csv('/content/drive/MyDrive/cienciadados/estatistica/dados/diamond.csv', sep=',')\n",
        "\n",
        "# Sua resposta aqui também:\n",
        "diamond_df.head(10)"
      ]
    },
    {
      "cell_type": "markdown",
      "metadata": {
        "id": "3rNcu2uFaNJ1"
      },
      "source": [
        "<a id='descstats'></a>\n",
        "## 4. Estatística descritiva\n",
        "Vamos iniciar o conteúdo falando sobre a **Estatística descritiva**. Como apresentado acima, essa área **nos dá insights úteis e revela padrões** presentes nos dados que nem sempre são intuitivos e explícitos. "
      ]
    },
    {
      "cell_type": "markdown",
      "metadata": {
        "id": "jU_UPWMKafv8"
      },
      "source": [
        "<a id='variables'></a>\n",
        "### 4.1 Tipos de variáveis\n",
        "\n",
        "Primeiro, vamos explicar o que são as tão faladas **variáveis**. Quando coletamos dados de uma amostra populacional, geralmente analisamos não apenas as características principais dessa amostra, mas também diversas outras informações que auxiliarão no entendimento desta característica. Assim, **uma variável é cada uma das características ou *features* das amostras no conjunto de dados**.\n",
        "\n",
        "As **variáveis** podem assumir diferentes formatos, e basicamente podem ser separadas em **quantitativas** ou **qualitativas**.\n",
        "\n",
        "Você consegue dizer qual a diferença entre elas?\n",
        "\n",
        "Se você disse \"Claro que consigo, uma variável quantitativas é uma variável com quantidades e uma variável qualitativas fala de qualidades\", você tem toda a razão! Mas caso você não tenha pego logo de cara, com exemplos tudo fica mais fácil. Vamos começar analisando dois exemplos simples:\n",
        "\n",
        "**Lançar um dado:** Imagine que medimos diversos resultados do lançamento de um dado. Quando um dado é lançado, existem seis resultados possíveis (eu sei, eu sei, se você for um jogador de D&D, você pode discordar). Como cada resultado possível é um número, podemos afirmar que o resultado do lançamento de um dado é uma variável numérica.\n",
        "\n",
        "**Tipo sanguíneo:** Agora imagine que no dataset que estamos analisando existam os dados de tipos sanguíneo de cada um dos pacientes. Como o tipo de sangue de cada indivíduo só pode estar entre as categorias A, B, AB ou O, este é um exemplo de variável categórica.\n",
        "\n",
        "Essas duas classes podem possuir algumas subdivisões que estão descritas abaixo.\n",
        "\n",
        "<img src=\"https://i.imgur.com/wAzvtcC.png\" alt=\"variables\" width=\"450\"/>\n",
        "\n",
        "Enquanto uma variável quantitativa, ou numérica, pode ser discreta ou contínua, uma variável qualitativa, ou categórica, pode ser nominal ou ordinal. Você pode estar se perguntando \"Qual é o significado de cada uma destas subclasses?\". Bem, aqui vai uma definição simples de cada uma delas:\n",
        "\n",
        "**Numérica - discreta:** como discutido acima, uma variável numérica expressa quantidades e, por discreto, queremos dizer que seus valores são contáveis (por exemplo, os resultados de um dado ou o número de habitantes no planeta).\n",
        "\n",
        "**Numérica - contínua:** também são valores constituídos por quantidades, mas uma variável contínua é incontável, com infinitos valores possíveis e tendo que ser mensuradas (por exemplo os preços de ações ou o peso de indivíduos).\n",
        "\n",
        "**Categórica - nominal:** lembre-se que as variáveis categóricas não têm valores numéricos e expressam qualidades, e as nominais não têm qualquer tipo de hierarquia (por exemplo, tipo de sangue).\n",
        "\n",
        "**Categórica - ordinal:** As variáveis ordinais têm hierarquia (por exemplo, o desempenho de um cientista de dados durante o semestre pode ser alto, médio ou baixo)."
      ]
    },
    {
      "cell_type": "markdown",
      "metadata": {
        "id": "vWDx8BLdbuwC"
      },
      "source": [
        "##### Exercício 4.1\n",
        "\n",
        "Vamos praticar para internalizar o conceito? Preencha o código abaixo com o tipo de cada uma das variáveis do exercício."
      ]
    },
    {
      "cell_type": "code",
      "execution_count": null,
      "metadata": {
        "exid": "4.1",
        "id": "safQWvWHbxE7",
        "colab": {
          "base_uri": "https://localhost:8080/"
        },
        "outputId": "c2404614-341e-45f6-e81c-32f77a3b07fe"
      },
      "outputs": [
        {
          "output_type": "stream",
          "name": "stdout",
          "text": [
            "O lançamento de uma moeda é uma variável Categórica - Nominal\n",
            "O tipo sanguíneo de alguém é uma variável Categórica - Nominal\n",
            "O tamanho do sapato de uma pessoa é uma variável Numérica - Contínua\n",
            "O peso dos itens de uma loja são uma variável Categórica - Nominal\n",
            "A satisfação do cliente é uma variável Categórica - Nominal\n",
            "O estado em que uma pessoa vive é uma variável Categórica - Nominal\n",
            "A variável 'carat' (quilates) é uma variável Numérica - Contínua\n",
            "A variável 'cut' é uma variável Categórica - Nominal\n"
          ]
        }
      ],
      "source": [
        "# Que tipo de variáveis constituem cada exemplo abaixo?\n",
        "types = [\n",
        "         \"Numérica - Contínua\",   # índice: 0\n",
        "         \"Numérica - Discreta\",   # índice: 1\n",
        "         \"Categórica - Nominal\",  # índice: 2\n",
        "         \"Categórica - Ordinal\"   # índice: 3\n",
        "         ]\n",
        "\n",
        "# EXEMPLOS\n",
        "# Exemplo 0: Resultados de lançar uma moeda\n",
        "kind_ex0 = \"Categórica - Nominal\" # não esqueça de usar os valores idênticos aos da lista \"types\"\n",
        "# Por quê? - Categórica --> Os resultados possíveis são \"cara\" ou \"coroa. não numéricos. Nominal --> não há hierarquia\n",
        "print(\"O lançamento de uma moeda é uma variável \" + kind_ex0)\n",
        "\n",
        "# Exemplo 1: Tipo sanguíneo\n",
        "# para não precisar copiar e colar, você pode até usar os índices da lista 'types'\n",
        "kind_ex1 = types[2] # ou kind_ex1 = \"Categórica - Nominal\" (como preferir)\n",
        "print(\"O tipo sanguíneo de alguém é uma variável \" + kind_ex1)\n",
        "\n",
        "# EXERCÍCIOS\n",
        "#1 - Tamanho do sapato (Ex: 39, 43, 44) (desconsidere alguém que calce 39/40)\n",
        "kind_1 = 'Numérica - Discreta'\n",
        "print(\"O tamanho do sapato de uma pessoa é uma variável \" + kind_1)\n",
        "\n",
        "#2 - Peso dos itens de uma loja (em kg)\n",
        "kind_2 = 'Numérica - Contínua'\n",
        "print(\"O peso dos itens de uma loja são uma variável \" + kind_2)\n",
        "\n",
        "#3 - Resultados de uma pesquisa de satisfação do cliente\n",
        "# Considere que o questionário tinha as categorias: ['Não satisfeito', 'Indiferente', 'Muito satisfeito']\n",
        "kind_3 = 'Categórica - Ordinal'\n",
        "print(\"A satisfação do cliente é uma variável \" + kind_3)\n",
        "\n",
        "#4 - O estado onde alguém mora\n",
        "kind_4 = 'Categórica - Nominal'\n",
        "print(\"O estado em que uma pessoa vive é uma variável \" + kind_4)\n",
        "\n",
        "#5 - A variável 'carat' (quilates de um diamante) do dadaset\n",
        "kind_5 = 'Numérica - Contínua'\n",
        "print(\"A variável 'carat' (quilates) é uma variável \" + kind_5)\n",
        "\n",
        "#6 - A variável 'cut' do dataset\n",
        "kind_6 = 'Categórica - Ordinal' # tente visualizar os valores da variável no dataset\n",
        "print(\"A variável 'cut' é uma variável \" + kind_6)"
      ]
    },
    {
      "cell_type": "markdown",
      "metadata": {
        "id": "vocTTd6Pb85b"
      },
      "source": [
        "\n",
        "### 4.2. Tabela de distribuição de frequência\n",
        "Em estatística, a **frequência** de um valor corresponde ao **número de vezes que este ocorreu no dataset**. Assim, a **tabela de frequência** é uma forma de **organizar as frequências dos valores presentes**.\n",
        "\n",
        "Felizmente, a biblioteca Pandas tem um método chamado [`crosstab`](https://pandas.pydata.org/docs/reference/api/pandas.crosstab.html) para a construção dessas tabelas.\n",
        "\n",
        "As tabelas de frequência são **muito utilizadas em variáveis categóricas**, ou variáveis **numéricas discretas**, mas também podemos utilizá-las com **variáveis numéricas contínuas**. O lado negativo dessa última aplicação, porém, é que há uma certa **perda de informação**, uma vez que temos de **agrupar os valores numéricos em classes cada uma com diferentes intervalos de valores**.\n",
        "\n",
        "A razão para fazer isso é que as variáveis numéricas contínuas podem assumir uma **infinidade de valores diferentes**. Pense, por exemplo, em um número que esteja entre 0 e 1. Qual a probabilidade de esse número ser exatamente um igual a um outro qualquer desse intervalo, digamos 0,987140293417239847120394182343? Por outro lado, e se agora pensarmos na probabilidades de este valor estar entre 0 e 0,3? As chances são muito maiores, certo? Por isso, em geral, na tabela de frequência de variáveis numéricas, tentamos agrupá-las em intervalos de classes ao invés de contar a frequência de cada valor. Este é um conceito chave e será novamente abordado mais tarde.\n",
        "\n",
        "**Exemplo**: Uma variável que varia de, digamos, 0 a 100, poderia ser agregada pelos intervalos de classe\n",
        "\n",
        "<center>\n",
        "    A = [0,25) <br>\n",
        "    B = [25,50)  <br>\n",
        "    C = [50,75)  <br>\n",
        "    D = [75, 100]\n",
        "</center>\n",
        "\n",
        "A perda de informação deve-se ao fato de que saber a que intervalo de classe pertence um determinado exemplo não nos informa sobre o seu valor específico.\n"
      ]
    },
    {
      "cell_type": "markdown",
      "metadata": {
        "id": "rGZ7nCk2cWs6"
      },
      "source": [
        "#### 4.2.1. Tabelas unidimensionais\n",
        "Aqui realizamos uma análise univariada, ou seja, apresentando as frequências de apenas uma única variável. Veja o exemplo abaixo:"
      ]
    },
    {
      "cell_type": "code",
      "execution_count": null,
      "metadata": {
        "id": "ENtjAV_7cWQj",
        "colab": {
          "base_uri": "https://localhost:8080/",
          "height": 238
        },
        "outputId": "f88b2f0e-33ce-4417-fd60-394c13a524b2"
      },
      "outputs": [
        {
          "output_type": "execute_result",
          "data": {
            "text/plain": [
              "col_0      count\n",
              "cut             \n",
              "Fair        1610\n",
              "Good        4906\n",
              "Ideal      21551\n",
              "Premium    13791\n",
              "Very Good  12082"
            ],
            "text/html": [
              "\n",
              "  <div id=\"df-69ab8a94-56c2-45b5-9a87-ba0e07e086c0\">\n",
              "    <div class=\"colab-df-container\">\n",
              "      <div>\n",
              "<style scoped>\n",
              "    .dataframe tbody tr th:only-of-type {\n",
              "        vertical-align: middle;\n",
              "    }\n",
              "\n",
              "    .dataframe tbody tr th {\n",
              "        vertical-align: top;\n",
              "    }\n",
              "\n",
              "    .dataframe thead th {\n",
              "        text-align: right;\n",
              "    }\n",
              "</style>\n",
              "<table border=\"1\" class=\"dataframe\">\n",
              "  <thead>\n",
              "    <tr style=\"text-align: right;\">\n",
              "      <th>col_0</th>\n",
              "      <th>count</th>\n",
              "    </tr>\n",
              "    <tr>\n",
              "      <th>cut</th>\n",
              "      <th></th>\n",
              "    </tr>\n",
              "  </thead>\n",
              "  <tbody>\n",
              "    <tr>\n",
              "      <th>Fair</th>\n",
              "      <td>1610</td>\n",
              "    </tr>\n",
              "    <tr>\n",
              "      <th>Good</th>\n",
              "      <td>4906</td>\n",
              "    </tr>\n",
              "    <tr>\n",
              "      <th>Ideal</th>\n",
              "      <td>21551</td>\n",
              "    </tr>\n",
              "    <tr>\n",
              "      <th>Premium</th>\n",
              "      <td>13791</td>\n",
              "    </tr>\n",
              "    <tr>\n",
              "      <th>Very Good</th>\n",
              "      <td>12082</td>\n",
              "    </tr>\n",
              "  </tbody>\n",
              "</table>\n",
              "</div>\n",
              "      <button class=\"colab-df-convert\" onclick=\"convertToInteractive('df-69ab8a94-56c2-45b5-9a87-ba0e07e086c0')\"\n",
              "              title=\"Convert this dataframe to an interactive table.\"\n",
              "              style=\"display:none;\">\n",
              "        \n",
              "  <svg xmlns=\"http://www.w3.org/2000/svg\" height=\"24px\"viewBox=\"0 0 24 24\"\n",
              "       width=\"24px\">\n",
              "    <path d=\"M0 0h24v24H0V0z\" fill=\"none\"/>\n",
              "    <path d=\"M18.56 5.44l.94 2.06.94-2.06 2.06-.94-2.06-.94-.94-2.06-.94 2.06-2.06.94zm-11 1L8.5 8.5l.94-2.06 2.06-.94-2.06-.94L8.5 2.5l-.94 2.06-2.06.94zm10 10l.94 2.06.94-2.06 2.06-.94-2.06-.94-.94-2.06-.94 2.06-2.06.94z\"/><path d=\"M17.41 7.96l-1.37-1.37c-.4-.4-.92-.59-1.43-.59-.52 0-1.04.2-1.43.59L10.3 9.45l-7.72 7.72c-.78.78-.78 2.05 0 2.83L4 21.41c.39.39.9.59 1.41.59.51 0 1.02-.2 1.41-.59l7.78-7.78 2.81-2.81c.8-.78.8-2.07 0-2.86zM5.41 20L4 18.59l7.72-7.72 1.47 1.35L5.41 20z\"/>\n",
              "  </svg>\n",
              "      </button>\n",
              "      \n",
              "  <style>\n",
              "    .colab-df-container {\n",
              "      display:flex;\n",
              "      flex-wrap:wrap;\n",
              "      gap: 12px;\n",
              "    }\n",
              "\n",
              "    .colab-df-convert {\n",
              "      background-color: #E8F0FE;\n",
              "      border: none;\n",
              "      border-radius: 50%;\n",
              "      cursor: pointer;\n",
              "      display: none;\n",
              "      fill: #1967D2;\n",
              "      height: 32px;\n",
              "      padding: 0 0 0 0;\n",
              "      width: 32px;\n",
              "    }\n",
              "\n",
              "    .colab-df-convert:hover {\n",
              "      background-color: #E2EBFA;\n",
              "      box-shadow: 0px 1px 2px rgba(60, 64, 67, 0.3), 0px 1px 3px 1px rgba(60, 64, 67, 0.15);\n",
              "      fill: #174EA6;\n",
              "    }\n",
              "\n",
              "    [theme=dark] .colab-df-convert {\n",
              "      background-color: #3B4455;\n",
              "      fill: #D2E3FC;\n",
              "    }\n",
              "\n",
              "    [theme=dark] .colab-df-convert:hover {\n",
              "      background-color: #434B5C;\n",
              "      box-shadow: 0px 1px 3px 1px rgba(0, 0, 0, 0.15);\n",
              "      filter: drop-shadow(0px 1px 2px rgba(0, 0, 0, 0.3));\n",
              "      fill: #FFFFFF;\n",
              "    }\n",
              "  </style>\n",
              "\n",
              "      <script>\n",
              "        const buttonEl =\n",
              "          document.querySelector('#df-69ab8a94-56c2-45b5-9a87-ba0e07e086c0 button.colab-df-convert');\n",
              "        buttonEl.style.display =\n",
              "          google.colab.kernel.accessAllowed ? 'block' : 'none';\n",
              "\n",
              "        async function convertToInteractive(key) {\n",
              "          const element = document.querySelector('#df-69ab8a94-56c2-45b5-9a87-ba0e07e086c0');\n",
              "          const dataTable =\n",
              "            await google.colab.kernel.invokeFunction('convertToInteractive',\n",
              "                                                     [key], {});\n",
              "          if (!dataTable) return;\n",
              "\n",
              "          const docLinkHtml = 'Like what you see? Visit the ' +\n",
              "            '<a target=\"_blank\" href=https://colab.research.google.com/notebooks/data_table.ipynb>data table notebook</a>'\n",
              "            + ' to learn more about interactive tables.';\n",
              "          element.innerHTML = '';\n",
              "          dataTable['output_type'] = 'display_data';\n",
              "          await google.colab.output.renderOutput(dataTable, element);\n",
              "          const docLink = document.createElement('div');\n",
              "          docLink.innerHTML = docLinkHtml;\n",
              "          element.appendChild(docLink);\n",
              "        }\n",
              "      </script>\n",
              "    </div>\n",
              "  </div>\n",
              "  "
            ]
          },
          "metadata": {},
          "execution_count": 7
        }
      ],
      "source": [
        "pd.crosstab(index=diamond_df[\"cut\"], columns=\"count\")"
      ]
    },
    {
      "cell_type": "markdown",
      "metadata": {
        "id": "yliybT1MdURC"
      },
      "source": [
        "Note que essa análise também pode ser feita utilizando a função `group`, que vimos nas aulas passadas."
      ]
    },
    {
      "cell_type": "code",
      "execution_count": null,
      "metadata": {
        "id": "PvDHgqP6dXmy",
        "colab": {
          "base_uri": "https://localhost:8080/"
        },
        "outputId": "8f5d9b15-a86c-4bd5-a8cd-d774aa77ce45"
      },
      "outputs": [
        {
          "output_type": "execute_result",
          "data": {
            "text/plain": [
              "cut\n",
              "Fair          1610\n",
              "Good          4906\n",
              "Ideal        21551\n",
              "Premium      13791\n",
              "Very Good    12082\n",
              "dtype: int64"
            ]
          },
          "metadata": {},
          "execution_count": 8
        }
      ],
      "source": [
        "grouped = diamond_df.groupby('cut')\n",
        "grouped.size()"
      ]
    },
    {
      "cell_type": "markdown",
      "metadata": {
        "id": "zKbjWZradZ8S"
      },
      "source": [
        "Embora tecnicamente esta seja uma variável numérica, ela representa uma variável categórica (Qualidade do diamante) e, **o mais importante é que ela não assume uma ampla gama de valores**.\n",
        "\n",
        "Além disso, com a função crosstab podemos ver como os dados estão distribuidos normalizando os dados. Veja o exemplo abaixo"
      ]
    },
    {
      "cell_type": "code",
      "execution_count": null,
      "metadata": {
        "id": "DbLGf8oudm0k",
        "colab": {
          "base_uri": "https://localhost:8080/",
          "height": 238
        },
        "outputId": "2631d71d-3c47-4a95-c321-98849cacb040"
      },
      "outputs": [
        {
          "output_type": "execute_result",
          "data": {
            "text/plain": [
              "col_0         count\n",
              "cut                \n",
              "Fair       0.029848\n",
              "Good       0.090953\n",
              "Ideal      0.399537\n",
              "Premium    0.255673\n",
              "Very Good  0.223990"
            ],
            "text/html": [
              "\n",
              "  <div id=\"df-6e81b903-b411-428a-9394-4f444ef30a34\">\n",
              "    <div class=\"colab-df-container\">\n",
              "      <div>\n",
              "<style scoped>\n",
              "    .dataframe tbody tr th:only-of-type {\n",
              "        vertical-align: middle;\n",
              "    }\n",
              "\n",
              "    .dataframe tbody tr th {\n",
              "        vertical-align: top;\n",
              "    }\n",
              "\n",
              "    .dataframe thead th {\n",
              "        text-align: right;\n",
              "    }\n",
              "</style>\n",
              "<table border=\"1\" class=\"dataframe\">\n",
              "  <thead>\n",
              "    <tr style=\"text-align: right;\">\n",
              "      <th>col_0</th>\n",
              "      <th>count</th>\n",
              "    </tr>\n",
              "    <tr>\n",
              "      <th>cut</th>\n",
              "      <th></th>\n",
              "    </tr>\n",
              "  </thead>\n",
              "  <tbody>\n",
              "    <tr>\n",
              "      <th>Fair</th>\n",
              "      <td>0.029848</td>\n",
              "    </tr>\n",
              "    <tr>\n",
              "      <th>Good</th>\n",
              "      <td>0.090953</td>\n",
              "    </tr>\n",
              "    <tr>\n",
              "      <th>Ideal</th>\n",
              "      <td>0.399537</td>\n",
              "    </tr>\n",
              "    <tr>\n",
              "      <th>Premium</th>\n",
              "      <td>0.255673</td>\n",
              "    </tr>\n",
              "    <tr>\n",
              "      <th>Very Good</th>\n",
              "      <td>0.223990</td>\n",
              "    </tr>\n",
              "  </tbody>\n",
              "</table>\n",
              "</div>\n",
              "      <button class=\"colab-df-convert\" onclick=\"convertToInteractive('df-6e81b903-b411-428a-9394-4f444ef30a34')\"\n",
              "              title=\"Convert this dataframe to an interactive table.\"\n",
              "              style=\"display:none;\">\n",
              "        \n",
              "  <svg xmlns=\"http://www.w3.org/2000/svg\" height=\"24px\"viewBox=\"0 0 24 24\"\n",
              "       width=\"24px\">\n",
              "    <path d=\"M0 0h24v24H0V0z\" fill=\"none\"/>\n",
              "    <path d=\"M18.56 5.44l.94 2.06.94-2.06 2.06-.94-2.06-.94-.94-2.06-.94 2.06-2.06.94zm-11 1L8.5 8.5l.94-2.06 2.06-.94-2.06-.94L8.5 2.5l-.94 2.06-2.06.94zm10 10l.94 2.06.94-2.06 2.06-.94-2.06-.94-.94-2.06-.94 2.06-2.06.94z\"/><path d=\"M17.41 7.96l-1.37-1.37c-.4-.4-.92-.59-1.43-.59-.52 0-1.04.2-1.43.59L10.3 9.45l-7.72 7.72c-.78.78-.78 2.05 0 2.83L4 21.41c.39.39.9.59 1.41.59.51 0 1.02-.2 1.41-.59l7.78-7.78 2.81-2.81c.8-.78.8-2.07 0-2.86zM5.41 20L4 18.59l7.72-7.72 1.47 1.35L5.41 20z\"/>\n",
              "  </svg>\n",
              "      </button>\n",
              "      \n",
              "  <style>\n",
              "    .colab-df-container {\n",
              "      display:flex;\n",
              "      flex-wrap:wrap;\n",
              "      gap: 12px;\n",
              "    }\n",
              "\n",
              "    .colab-df-convert {\n",
              "      background-color: #E8F0FE;\n",
              "      border: none;\n",
              "      border-radius: 50%;\n",
              "      cursor: pointer;\n",
              "      display: none;\n",
              "      fill: #1967D2;\n",
              "      height: 32px;\n",
              "      padding: 0 0 0 0;\n",
              "      width: 32px;\n",
              "    }\n",
              "\n",
              "    .colab-df-convert:hover {\n",
              "      background-color: #E2EBFA;\n",
              "      box-shadow: 0px 1px 2px rgba(60, 64, 67, 0.3), 0px 1px 3px 1px rgba(60, 64, 67, 0.15);\n",
              "      fill: #174EA6;\n",
              "    }\n",
              "\n",
              "    [theme=dark] .colab-df-convert {\n",
              "      background-color: #3B4455;\n",
              "      fill: #D2E3FC;\n",
              "    }\n",
              "\n",
              "    [theme=dark] .colab-df-convert:hover {\n",
              "      background-color: #434B5C;\n",
              "      box-shadow: 0px 1px 3px 1px rgba(0, 0, 0, 0.15);\n",
              "      filter: drop-shadow(0px 1px 2px rgba(0, 0, 0, 0.3));\n",
              "      fill: #FFFFFF;\n",
              "    }\n",
              "  </style>\n",
              "\n",
              "      <script>\n",
              "        const buttonEl =\n",
              "          document.querySelector('#df-6e81b903-b411-428a-9394-4f444ef30a34 button.colab-df-convert');\n",
              "        buttonEl.style.display =\n",
              "          google.colab.kernel.accessAllowed ? 'block' : 'none';\n",
              "\n",
              "        async function convertToInteractive(key) {\n",
              "          const element = document.querySelector('#df-6e81b903-b411-428a-9394-4f444ef30a34');\n",
              "          const dataTable =\n",
              "            await google.colab.kernel.invokeFunction('convertToInteractive',\n",
              "                                                     [key], {});\n",
              "          if (!dataTable) return;\n",
              "\n",
              "          const docLinkHtml = 'Like what you see? Visit the ' +\n",
              "            '<a target=\"_blank\" href=https://colab.research.google.com/notebooks/data_table.ipynb>data table notebook</a>'\n",
              "            + ' to learn more about interactive tables.';\n",
              "          element.innerHTML = '';\n",
              "          dataTable['output_type'] = 'display_data';\n",
              "          await google.colab.output.renderOutput(dataTable, element);\n",
              "          const docLink = document.createElement('div');\n",
              "          docLink.innerHTML = docLinkHtml;\n",
              "          element.appendChild(docLink);\n",
              "        }\n",
              "      </script>\n",
              "    </div>\n",
              "  </div>\n",
              "  "
            ]
          },
          "metadata": {},
          "execution_count": 9
        }
      ],
      "source": [
        "pd.crosstab(index=diamond_df[\"cut\"], columns=\"count\", normalize=True)"
      ]
    },
    {
      "cell_type": "markdown",
      "metadata": {
        "id": "8xHLkJMydWdR"
      },
      "source": [
        "##### Exercício 4.2\n",
        "Agora tente fazer uma tabela de frequência dos quilates dos diamantes (variável `carat`).\n",
        "\n",
        "Obs.: Não é preciso normalizar os dados."
      ]
    },
    {
      "cell_type": "code",
      "execution_count": null,
      "metadata": {
        "exid": "4.2",
        "id": "YFKoZybeeXTJ",
        "colab": {
          "base_uri": "https://localhost:8080/",
          "height": 424
        },
        "outputId": "55ac327c-f381-40f1-d725-fe45d6b52d54"
      },
      "outputs": [
        {
          "output_type": "execute_result",
          "data": {
            "text/plain": [
              "col_0  carat  count\n",
              "0       0.20     12\n",
              "1       0.21      9\n",
              "2       0.22      5\n",
              "3       0.23    293\n",
              "4       0.24    254\n",
              "..       ...    ...\n",
              "268     4.00      1\n",
              "269     4.01      2\n",
              "270     4.13      1\n",
              "271     4.50      1\n",
              "272     5.01      1\n",
              "\n",
              "[273 rows x 2 columns]"
            ],
            "text/html": [
              "\n",
              "  <div id=\"df-8ac92d51-4ab0-4c0b-adf6-cbf3c6d39e30\">\n",
              "    <div class=\"colab-df-container\">\n",
              "      <div>\n",
              "<style scoped>\n",
              "    .dataframe tbody tr th:only-of-type {\n",
              "        vertical-align: middle;\n",
              "    }\n",
              "\n",
              "    .dataframe tbody tr th {\n",
              "        vertical-align: top;\n",
              "    }\n",
              "\n",
              "    .dataframe thead th {\n",
              "        text-align: right;\n",
              "    }\n",
              "</style>\n",
              "<table border=\"1\" class=\"dataframe\">\n",
              "  <thead>\n",
              "    <tr style=\"text-align: right;\">\n",
              "      <th>col_0</th>\n",
              "      <th>carat</th>\n",
              "      <th>count</th>\n",
              "    </tr>\n",
              "  </thead>\n",
              "  <tbody>\n",
              "    <tr>\n",
              "      <th>0</th>\n",
              "      <td>0.20</td>\n",
              "      <td>12</td>\n",
              "    </tr>\n",
              "    <tr>\n",
              "      <th>1</th>\n",
              "      <td>0.21</td>\n",
              "      <td>9</td>\n",
              "    </tr>\n",
              "    <tr>\n",
              "      <th>2</th>\n",
              "      <td>0.22</td>\n",
              "      <td>5</td>\n",
              "    </tr>\n",
              "    <tr>\n",
              "      <th>3</th>\n",
              "      <td>0.23</td>\n",
              "      <td>293</td>\n",
              "    </tr>\n",
              "    <tr>\n",
              "      <th>4</th>\n",
              "      <td>0.24</td>\n",
              "      <td>254</td>\n",
              "    </tr>\n",
              "    <tr>\n",
              "      <th>...</th>\n",
              "      <td>...</td>\n",
              "      <td>...</td>\n",
              "    </tr>\n",
              "    <tr>\n",
              "      <th>268</th>\n",
              "      <td>4.00</td>\n",
              "      <td>1</td>\n",
              "    </tr>\n",
              "    <tr>\n",
              "      <th>269</th>\n",
              "      <td>4.01</td>\n",
              "      <td>2</td>\n",
              "    </tr>\n",
              "    <tr>\n",
              "      <th>270</th>\n",
              "      <td>4.13</td>\n",
              "      <td>1</td>\n",
              "    </tr>\n",
              "    <tr>\n",
              "      <th>271</th>\n",
              "      <td>4.50</td>\n",
              "      <td>1</td>\n",
              "    </tr>\n",
              "    <tr>\n",
              "      <th>272</th>\n",
              "      <td>5.01</td>\n",
              "      <td>1</td>\n",
              "    </tr>\n",
              "  </tbody>\n",
              "</table>\n",
              "<p>273 rows × 2 columns</p>\n",
              "</div>\n",
              "      <button class=\"colab-df-convert\" onclick=\"convertToInteractive('df-8ac92d51-4ab0-4c0b-adf6-cbf3c6d39e30')\"\n",
              "              title=\"Convert this dataframe to an interactive table.\"\n",
              "              style=\"display:none;\">\n",
              "        \n",
              "  <svg xmlns=\"http://www.w3.org/2000/svg\" height=\"24px\"viewBox=\"0 0 24 24\"\n",
              "       width=\"24px\">\n",
              "    <path d=\"M0 0h24v24H0V0z\" fill=\"none\"/>\n",
              "    <path d=\"M18.56 5.44l.94 2.06.94-2.06 2.06-.94-2.06-.94-.94-2.06-.94 2.06-2.06.94zm-11 1L8.5 8.5l.94-2.06 2.06-.94-2.06-.94L8.5 2.5l-.94 2.06-2.06.94zm10 10l.94 2.06.94-2.06 2.06-.94-2.06-.94-.94-2.06-.94 2.06-2.06.94z\"/><path d=\"M17.41 7.96l-1.37-1.37c-.4-.4-.92-.59-1.43-.59-.52 0-1.04.2-1.43.59L10.3 9.45l-7.72 7.72c-.78.78-.78 2.05 0 2.83L4 21.41c.39.39.9.59 1.41.59.51 0 1.02-.2 1.41-.59l7.78-7.78 2.81-2.81c.8-.78.8-2.07 0-2.86zM5.41 20L4 18.59l7.72-7.72 1.47 1.35L5.41 20z\"/>\n",
              "  </svg>\n",
              "      </button>\n",
              "      \n",
              "  <style>\n",
              "    .colab-df-container {\n",
              "      display:flex;\n",
              "      flex-wrap:wrap;\n",
              "      gap: 12px;\n",
              "    }\n",
              "\n",
              "    .colab-df-convert {\n",
              "      background-color: #E8F0FE;\n",
              "      border: none;\n",
              "      border-radius: 50%;\n",
              "      cursor: pointer;\n",
              "      display: none;\n",
              "      fill: #1967D2;\n",
              "      height: 32px;\n",
              "      padding: 0 0 0 0;\n",
              "      width: 32px;\n",
              "    }\n",
              "\n",
              "    .colab-df-convert:hover {\n",
              "      background-color: #E2EBFA;\n",
              "      box-shadow: 0px 1px 2px rgba(60, 64, 67, 0.3), 0px 1px 3px 1px rgba(60, 64, 67, 0.15);\n",
              "      fill: #174EA6;\n",
              "    }\n",
              "\n",
              "    [theme=dark] .colab-df-convert {\n",
              "      background-color: #3B4455;\n",
              "      fill: #D2E3FC;\n",
              "    }\n",
              "\n",
              "    [theme=dark] .colab-df-convert:hover {\n",
              "      background-color: #434B5C;\n",
              "      box-shadow: 0px 1px 3px 1px rgba(0, 0, 0, 0.15);\n",
              "      filter: drop-shadow(0px 1px 2px rgba(0, 0, 0, 0.3));\n",
              "      fill: #FFFFFF;\n",
              "    }\n",
              "  </style>\n",
              "\n",
              "      <script>\n",
              "        const buttonEl =\n",
              "          document.querySelector('#df-8ac92d51-4ab0-4c0b-adf6-cbf3c6d39e30 button.colab-df-convert');\n",
              "        buttonEl.style.display =\n",
              "          google.colab.kernel.accessAllowed ? 'block' : 'none';\n",
              "\n",
              "        async function convertToInteractive(key) {\n",
              "          const element = document.querySelector('#df-8ac92d51-4ab0-4c0b-adf6-cbf3c6d39e30');\n",
              "          const dataTable =\n",
              "            await google.colab.kernel.invokeFunction('convertToInteractive',\n",
              "                                                     [key], {});\n",
              "          if (!dataTable) return;\n",
              "\n",
              "          const docLinkHtml = 'Like what you see? Visit the ' +\n",
              "            '<a target=\"_blank\" href=https://colab.research.google.com/notebooks/data_table.ipynb>data table notebook</a>'\n",
              "            + ' to learn more about interactive tables.';\n",
              "          element.innerHTML = '';\n",
              "          dataTable['output_type'] = 'display_data';\n",
              "          await google.colab.output.renderOutput(dataTable, element);\n",
              "          const docLink = document.createElement('div');\n",
              "          docLink.innerHTML = docLinkHtml;\n",
              "          element.appendChild(docLink);\n",
              "        }\n",
              "      </script>\n",
              "    </div>\n",
              "  </div>\n",
              "  "
            ]
          },
          "metadata": {},
          "execution_count": 11
        }
      ],
      "source": [
        "# Escreva sua resposta aqui:\n",
        "freq_tab = pd.crosstab(index=diamond_df[\"carat\"], columns=\"count\").reset_index()\n",
        "freq_tab"
      ]
    },
    {
      "cell_type": "markdown",
      "metadata": {
        "id": "0AbzAvtKeZOa"
      },
      "source": [
        "Bem inútil, não é? Isto porque esta variável numérica tem uma ampla gama de valores (0.20 até 5.01)! Para uma melhor análise, vamos agregar isso em alguns intervalos de classe."
      ]
    },
    {
      "cell_type": "markdown",
      "metadata": {
        "id": "OahdSWcWeeSS"
      },
      "source": [
        "##### Exercício 4.3\n",
        "Tente compreender a função definida, `class_interval()`. Então, crie uma nova coluna no dataframe `diamond_df` para os intervalos de classe (também conhecidos como *bins*) da variável **carat** utilizando a função com o método `apply()`, aprendido nas aulas passadas. Você pode usar o valor default para `nbins`."
      ]
    },
    {
      "cell_type": "code",
      "execution_count": null,
      "metadata": {
        "exid": "4.3",
        "id": "VRymFweseg3h"
      },
      "outputs": [],
      "source": [
        "def class_interval(var, min_value, max_value, nbins=5):\n",
        "    \"\"\"\n",
        "    Retorna uma string indicando o intervalo de classe a que 'var' pertence.\n",
        "    Input: var       - variável a ser colocada na classe correspondente (bin)\n",
        "           min_value - valor mínimo que a variável pode assumir no dataset\n",
        "           max_value - valor máximo que a variável pode assumir no dataset\n",
        "           nbins     - (Opcional) número de intervalos de classe (bins) (Default = 5)\n",
        "    Output: string indicando o intervalo de classe (\"<limite inferior> - <limite superior>\")\n",
        "    \"\"\"\n",
        "    \n",
        "    # Determina o comprimento (fixo) de cada intervalo de classe\n",
        "    bin_width = (max_value - min_value)/nbins\n",
        "    \n",
        "    # Determina a que intervalo de classe pertence o valor\n",
        "    n = (var-min_value)//bin_width  # a//b retorna a parte inteira da divisão a/b\n",
        "    if n == nbins:                  # trata a exceção quando var == max_value\n",
        "        n -= 1                      # a bin correspondente deve ser a última (n -= 1 é a mesma coisa que escrever que n = n - 1)\n",
        "    \n",
        "    # Determina o limite inferior (lower bound) e superior (upper bound) para aquele intervalo de classe\n",
        "    lower_bound = min_value + bin_width*n\n",
        "    upper_bound = min_value + bin_width*(n+1)\n",
        "    \n",
        "    return str(round(lower_bound,2)) + ' - ' + str(round(upper_bound,2))\n",
        "\n",
        "# Escreva sua resposta aqui:\n",
        "min_value = diamond_df.carat.min()\n",
        "max_value = diamond_df.carat.max()\n",
        "diamond_df['carat_class'] = diamond_df.carat.apply(lambda row : class_interval(row, min_value, max_value))\n",
        "\n",
        "# Verificando a implementação da função\n",
        "diamond_df.head()\n",
        "ex_4_3 = diamond_df.copy()"
      ]
    },
    {
      "cell_type": "markdown",
      "metadata": {
        "id": "UD9xrQg-e9B5"
      },
      "source": [
        "##### Exercício 4.4 \n",
        "Crie, então, a tabela de frequência unidimensional dos quilates dos diamantes (variável `carat`) utilizando os intervalos de classe que acabamos de definir (variável `carat_class`).\n",
        "\n",
        "Você pode testar variar o número de intervalos de classe `nbins` e ver como a sua tabela de frequência varia. Mas, antes de submeter, lembre-se de retornar a utilizar o número de intervalos de classe padrão (`nbins=5`).\n",
        "\n",
        "Obs.: Não é preciso normalizar os dados."
      ]
    },
    {
      "cell_type": "code",
      "execution_count": null,
      "metadata": {
        "exid": "4.4",
        "id": "j7eKBo1aedVS",
        "colab": {
          "base_uri": "https://localhost:8080/",
          "height": 206
        },
        "outputId": "fc72bf4e-e6f7-4cb3-bd91-23d3f47dc944"
      },
      "outputs": [
        {
          "output_type": "execute_result",
          "data": {
            "text/plain": [
              "col_0  carat_class  count\n",
              "0       0.2 - 1.16  43781\n",
              "1      1.16 - 2.12   9478\n",
              "2      2.12 - 3.09    667\n",
              "3      3.09 - 4.05     11\n",
              "4      4.05 - 5.01      3"
            ],
            "text/html": [
              "\n",
              "  <div id=\"df-37a4cd94-9221-4323-a426-c5d30f3845b4\">\n",
              "    <div class=\"colab-df-container\">\n",
              "      <div>\n",
              "<style scoped>\n",
              "    .dataframe tbody tr th:only-of-type {\n",
              "        vertical-align: middle;\n",
              "    }\n",
              "\n",
              "    .dataframe tbody tr th {\n",
              "        vertical-align: top;\n",
              "    }\n",
              "\n",
              "    .dataframe thead th {\n",
              "        text-align: right;\n",
              "    }\n",
              "</style>\n",
              "<table border=\"1\" class=\"dataframe\">\n",
              "  <thead>\n",
              "    <tr style=\"text-align: right;\">\n",
              "      <th>col_0</th>\n",
              "      <th>carat_class</th>\n",
              "      <th>count</th>\n",
              "    </tr>\n",
              "  </thead>\n",
              "  <tbody>\n",
              "    <tr>\n",
              "      <th>0</th>\n",
              "      <td>0.2 - 1.16</td>\n",
              "      <td>43781</td>\n",
              "    </tr>\n",
              "    <tr>\n",
              "      <th>1</th>\n",
              "      <td>1.16 - 2.12</td>\n",
              "      <td>9478</td>\n",
              "    </tr>\n",
              "    <tr>\n",
              "      <th>2</th>\n",
              "      <td>2.12 - 3.09</td>\n",
              "      <td>667</td>\n",
              "    </tr>\n",
              "    <tr>\n",
              "      <th>3</th>\n",
              "      <td>3.09 - 4.05</td>\n",
              "      <td>11</td>\n",
              "    </tr>\n",
              "    <tr>\n",
              "      <th>4</th>\n",
              "      <td>4.05 - 5.01</td>\n",
              "      <td>3</td>\n",
              "    </tr>\n",
              "  </tbody>\n",
              "</table>\n",
              "</div>\n",
              "      <button class=\"colab-df-convert\" onclick=\"convertToInteractive('df-37a4cd94-9221-4323-a426-c5d30f3845b4')\"\n",
              "              title=\"Convert this dataframe to an interactive table.\"\n",
              "              style=\"display:none;\">\n",
              "        \n",
              "  <svg xmlns=\"http://www.w3.org/2000/svg\" height=\"24px\"viewBox=\"0 0 24 24\"\n",
              "       width=\"24px\">\n",
              "    <path d=\"M0 0h24v24H0V0z\" fill=\"none\"/>\n",
              "    <path d=\"M18.56 5.44l.94 2.06.94-2.06 2.06-.94-2.06-.94-.94-2.06-.94 2.06-2.06.94zm-11 1L8.5 8.5l.94-2.06 2.06-.94-2.06-.94L8.5 2.5l-.94 2.06-2.06.94zm10 10l.94 2.06.94-2.06 2.06-.94-2.06-.94-.94-2.06-.94 2.06-2.06.94z\"/><path d=\"M17.41 7.96l-1.37-1.37c-.4-.4-.92-.59-1.43-.59-.52 0-1.04.2-1.43.59L10.3 9.45l-7.72 7.72c-.78.78-.78 2.05 0 2.83L4 21.41c.39.39.9.59 1.41.59.51 0 1.02-.2 1.41-.59l7.78-7.78 2.81-2.81c.8-.78.8-2.07 0-2.86zM5.41 20L4 18.59l7.72-7.72 1.47 1.35L5.41 20z\"/>\n",
              "  </svg>\n",
              "      </button>\n",
              "      \n",
              "  <style>\n",
              "    .colab-df-container {\n",
              "      display:flex;\n",
              "      flex-wrap:wrap;\n",
              "      gap: 12px;\n",
              "    }\n",
              "\n",
              "    .colab-df-convert {\n",
              "      background-color: #E8F0FE;\n",
              "      border: none;\n",
              "      border-radius: 50%;\n",
              "      cursor: pointer;\n",
              "      display: none;\n",
              "      fill: #1967D2;\n",
              "      height: 32px;\n",
              "      padding: 0 0 0 0;\n",
              "      width: 32px;\n",
              "    }\n",
              "\n",
              "    .colab-df-convert:hover {\n",
              "      background-color: #E2EBFA;\n",
              "      box-shadow: 0px 1px 2px rgba(60, 64, 67, 0.3), 0px 1px 3px 1px rgba(60, 64, 67, 0.15);\n",
              "      fill: #174EA6;\n",
              "    }\n",
              "\n",
              "    [theme=dark] .colab-df-convert {\n",
              "      background-color: #3B4455;\n",
              "      fill: #D2E3FC;\n",
              "    }\n",
              "\n",
              "    [theme=dark] .colab-df-convert:hover {\n",
              "      background-color: #434B5C;\n",
              "      box-shadow: 0px 1px 3px 1px rgba(0, 0, 0, 0.15);\n",
              "      filter: drop-shadow(0px 1px 2px rgba(0, 0, 0, 0.3));\n",
              "      fill: #FFFFFF;\n",
              "    }\n",
              "  </style>\n",
              "\n",
              "      <script>\n",
              "        const buttonEl =\n",
              "          document.querySelector('#df-37a4cd94-9221-4323-a426-c5d30f3845b4 button.colab-df-convert');\n",
              "        buttonEl.style.display =\n",
              "          google.colab.kernel.accessAllowed ? 'block' : 'none';\n",
              "\n",
              "        async function convertToInteractive(key) {\n",
              "          const element = document.querySelector('#df-37a4cd94-9221-4323-a426-c5d30f3845b4');\n",
              "          const dataTable =\n",
              "            await google.colab.kernel.invokeFunction('convertToInteractive',\n",
              "                                                     [key], {});\n",
              "          if (!dataTable) return;\n",
              "\n",
              "          const docLinkHtml = 'Like what you see? Visit the ' +\n",
              "            '<a target=\"_blank\" href=https://colab.research.google.com/notebooks/data_table.ipynb>data table notebook</a>'\n",
              "            + ' to learn more about interactive tables.';\n",
              "          element.innerHTML = '';\n",
              "          dataTable['output_type'] = 'display_data';\n",
              "          await google.colab.output.renderOutput(dataTable, element);\n",
              "          const docLink = document.createElement('div');\n",
              "          docLink.innerHTML = docLinkHtml;\n",
              "          element.appendChild(docLink);\n",
              "        }\n",
              "      </script>\n",
              "    </div>\n",
              "  </div>\n",
              "  "
            ]
          },
          "metadata": {},
          "execution_count": 16
        }
      ],
      "source": [
        "# Escreva sua resposta aqui:\n",
        "carat_crosstab = pd.crosstab(index=diamond_df[\"carat_class\"], columns=\"count\").reset_index()\n",
        "carat_crosstab"
      ]
    },
    {
      "cell_type": "markdown",
      "metadata": {
        "id": "o9HsI3YNfG5q"
      },
      "source": [
        "Muito melhor, não é?"
      ]
    },
    {
      "cell_type": "markdown",
      "metadata": {
        "id": "Y-JlniFCfRlB"
      },
      "source": [
        "#### 4.2.2. Tabelas Cruzadas\n",
        "Em alguns casos, é útil verificar a **distribuição de frequência de pares de valores**. Para isso, utilizamos a **tabela cruzada** (também chamada de tabela de dois caminhos, bidirecionais, ou pivô), que nos ajuda a resumir e exibir uma grande quantidade de dados de forma estruturada.\n",
        "\n",
        "Digamos que desejamos analisar os diferentes pares de valores de duas variáveis diferentes. No nosso dataset, por exemplo, temos as informações sobre qualidade do diamante (cut) e os quilates (carat). Então, o par ('Premium', 0.2) e ('Premium', 2.0) representariam valores de pares diferentes.\n",
        "\n",
        "Em Pandas, podemos fazer isto da seguinte forma:"
      ]
    },
    {
      "cell_type": "code",
      "execution_count": null,
      "metadata": {
        "id": "IYfrnRdUfUN4"
      },
      "outputs": [],
      "source": [
        "pd.crosstab(index=diamond_df['cut'], columns=diamond_df['carat_class'])"
      ]
    },
    {
      "cell_type": "markdown",
      "metadata": {
        "id": "EX1N-c81fW9i"
      },
      "source": [
        "Usando a opção `margins` podemos adicionar os uma linha e coluna que refletem a visão para todos as qualidades e para todas as opções de nossa nova variável `carat_class`."
      ]
    },
    {
      "cell_type": "code",
      "execution_count": null,
      "metadata": {
        "id": "vg7nVPv4fnOY"
      },
      "outputs": [],
      "source": [
        "pd.crosstab(index=diamond_df['cut'], columns=diamond_df['carat_class'], margins=True)"
      ]
    },
    {
      "cell_type": "code",
      "execution_count": null,
      "metadata": {
        "id": "OJ5hApCC73e1"
      },
      "outputs": [],
      "source": [
        "pd.crosstab(index=diamond_df['cut'], columns=diamond_df['carat_class'], margins=True, normalize=True).round(2)"
      ]
    },
    {
      "cell_type": "markdown",
      "metadata": {
        "id": "nRvVboNSfsY3"
      },
      "source": [
        "Viu só? A tabela cruzada nos permite resumir de forma simples algumas relações entre diferentes variáveis do dataset. Se analisássemos essas duas colunas de forma separada, por exemplo, não conseguiríamos encontrar relações entre as distribuições dessas duas variáveis"
      ]
    },
    {
      "cell_type": "markdown",
      "metadata": {
        "id": "3InHgsuv8TR3"
      },
      "source": [
        "Agora uma análise que podemos fazer é ver se o **preço** tem relação com os quilates de um diamante! Tente usar aquela função construída acima *class_interval* para criarmos intervalos de classe para essa variável e construir uma crosstab com a variável *carat_class* que criamos!\n",
        "\n",
        "Esse exercício é totalmente opcional!"
      ]
    },
    {
      "cell_type": "code",
      "execution_count": null,
      "metadata": {
        "id": "siWWbBdg9Jen"
      },
      "outputs": [],
      "source": [
        "min_value = diamond_df.price.min()\n",
        "max_value = diamond_df.price.max()\n",
        "diamond_df['price_class'] = diamond_df.price.apply(lambda x: class_interval(x, min_value, max_value, nbins=5))\n",
        "\n",
        "price_carat_crosstab = pd.crosstab(index=diamond_df['price_class'], columns=diamond_df['carat_class'])\n",
        "price_carat_crosstab"
      ]
    },
    {
      "cell_type": "markdown",
      "metadata": {
        "id": "NslTEo5J-tQu"
      },
      "source": [
        "Um passo muito importante do trabalho de um cientista de dados é analisar os dados e visualizações geradas! Pense nessas análises que geramos até agora e anote em um papel o que você extraiu sobre os diamantes, em relação às variáveis de preço, quilates e qualidade dos diamantes!\n",
        "\n",
        "Não tem certo ou errado, o interessante é ver o que você já conseguiu descobrir e quem sabe conseguiremos entender o que torna um diamante tão caro, usando apenas estatística!"
      ]
    },
    {
      "cell_type": "markdown",
      "metadata": {
        "id": "JJb2aqf8YydU"
      },
      "source": [
        "#### 4.2.3. Histograma\n",
        "\n",
        "Uma outra forma de **apresentar frequências** é através de uma visualização gráfica chamada **histograma**. Este tipo de gráfico é muito utilizado na estatística e é útil para o **entendimento da distribuição dos valores no dataset**.\n",
        "\n",
        "O histograma consiste em um gráfico de barras que demonstra uma distribuição de frequências, onde o eixo x apresenta as diferentes classes da variável - sejam elas valores diferentes para os dados categóricos, ou os intervalos de classe (*bins*) para os dados numéricos. Já o eixo y, ou a altura da barras, mostra a quantidade ou frequência absoluta com que o valor da classe ocorre.\n",
        "\n",
        "Existem diversas bibliotecas disponíveis para a plotagem de histogramas. Dentre elas, a biblioteca `matplotlib ` possui um [método chamado `hist()`](https://matplotlib.org/stable/api/_as_gen/matplotlib.pyplot.hist.html), que é amplamente utilizado e facilita nosso trabalho."
      ]
    },
    {
      "cell_type": "code",
      "execution_count": null,
      "metadata": {
        "id": "qUhInfT-Y6cp"
      },
      "outputs": [],
      "source": [
        "# Não há necessidade de preencher o código.\n",
        "# O _ indica que o valor retornado pela função não será utilizado\n",
        "_ = plt.hist(diamond_df.depth, bins=20) # Note que o bins é uma variável opcional do método"
      ]
    },
    {
      "cell_type": "markdown",
      "metadata": {
        "id": "_LHT7HwedRB9"
      },
      "source": [
        "<a id=\"submiss\"></a>\n",
        "## Submissão do Exercício"
      ]
    },
    {
      "cell_type": "markdown",
      "metadata": {
        "id": "OaF90rX6sIiX"
      },
      "source": [
        "# Declaração de Inexistência de Plágio:\n",
        "\n",
        "1. Eu sei que plágio é utilizar o trabalho de outra pessoa e apresentar como meu.\n",
        "2. Eu sei que plágio é errado e declaro que este notebook foi feito por mim.\n",
        "3. Tenho consciência de que a utilização do trabalho de terceiros é antiético e está sujeito à medidas administrativas.\n",
        "4. Declaro também que não compartilhei e não compartilharei meu trabalho com o intuito de que seja copiado e submetido por outra pessoa."
      ]
    },
    {
      "cell_type": "code",
      "execution_count": null,
      "metadata": {
        "id": "q1gYsYJldSAO"
      },
      "outputs": [],
      "source": [
        "# LEMBRE-SE DE SALVAR O NOTEBOOK ANTES DE EXECUTAR ESSA CELULA\n",
        "token = '___' # seu token aqui\n",
        "\n",
        "# Não altere o código abaixo\n",
        "import requests as req\n",
        "%matplotlib\n",
        "exec(req.get('https://api.vai.academy/submissioncode2').text)\n",
        "%matplotlib inline"
      ]
    }
  ],
  "metadata": {
    "celltoolbar": "Edit Metadata",
    "colab": {
      "collapsed_sections": [
        "JJb2aqf8YydU"
      ],
      "provenance": [],
      "toc_visible": true
    },
    "kernelspec": {
      "display_name": "Python 3 (ipykernel)",
      "language": "python",
      "name": "python3"
    },
    "language_info": {
      "codemirror_mode": {
        "name": "ipython",
        "version": 3
      },
      "file_extension": ".py",
      "mimetype": "text/x-python",
      "name": "python",
      "nbconvert_exporter": "python",
      "pygments_lexer": "ipython3",
      "version": "3.9.7"
    }
  },
  "nbformat": 4,
  "nbformat_minor": 0
}