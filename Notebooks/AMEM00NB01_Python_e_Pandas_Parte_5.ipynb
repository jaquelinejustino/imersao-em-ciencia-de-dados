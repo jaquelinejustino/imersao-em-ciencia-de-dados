{
  "cells": [
    {
      "cell_type": "markdown",
      "metadata": {
        "id": "_t-b8HQXI7UU"
      },
      "source": [
        "# <center>VAI Academy</center>\n",
        "# <center> Introdução à Python e Pandas - Parte 5</center>\n",
        "___\n",
        "Todo o conteúdo que você terá acesso ao longo desse período é confidencial, não sendo possível compartilhar ou comercializar os links ou os materiais recebidos que sejam de propriedade da VAI Academy. \n",
        "\n",
        "Dessa forma, ao participar do curso você está aceitando os termos de confidencialidade e não-comercialização dos conteúdos que serão recebidos.\n",
        "___\n",
        "\n",
        "# <center> Objetivos de aprendizado </center>\n",
        "- Familiarizar-se com as funcionalidades básicas do NumPy\n",
        "___\n",
        "\n",
        "## Conteúdo\n",
        "1. Introdução (Parte 1)\n",
        "2. Python/Jupyter Básico (Partes 1 e 2)\n",
        "3. Python Datatypes (Parte 3)\n",
        "4. Funções (Parte 4)\n",
        "5. [Numpy (Parte 5)](#numpy)\n",
        "6. Pandas (Partes 6 e 7)"
      ]
    },
    {
      "cell_type": "code",
      "source": [
        "from IPython.display import YouTubeVideo\n",
        "\n",
        "YouTubeVideo('VG3AwEz_D7c', width=800, height=450) "
      ],
      "metadata": {
        "id": "dlZu8s5EGDgS"
      },
      "execution_count": null,
      "outputs": []
    },
    {
      "cell_type": "markdown",
      "metadata": {
        "id": "xDZkVGOjI7Uc"
      },
      "source": [
        "<a name=\"numpy\"></a>\n",
        "## 5. NumPy"
      ]
    },
    {
      "cell_type": "markdown",
      "metadata": {
        "id": "FYsV7fiyI7Uc"
      },
      "source": [
        "### 5.1. O que é o NumPy?\n",
        "\n",
        "**NumPy** é a abreviação de *Numerical Python* ou *Numeric Python*. Ela é uma biblioteca *open-source* (ou seja, é um software cujo código original é disponibilizado livremente e pode ser distribuído e modificado) que oferece suporte a arrays e matrizes multidimensionais, provendo diversas funções matemáticas úteis em computação científica.\n",
        "\n",
        "Mas por que você deveria utilizar o NumPy? É simples! As listas do Python funcionam como as arrays, no entanto, são lentas para utilização com grandes volumes de dados. No ramo de Ciência de Dados, velocidade e recursos durante o processamento são bem importantes! Dessa forma, o NumPy nos possibilita utilizar os objetos arrays, que são bem mais rápidos que as listas tradicionais do Python.\n",
        "\n",
        "O **ndarray** é o objeto fundamental do NumPy. Este objeto é uma matriz N-dimensional, vamos entender melhor como este objeto funciona nas células abaixo."
      ]
    },
    {
      "cell_type": "markdown",
      "metadata": {
        "id": "OWBF8V3fI7Ud"
      },
      "source": [
        "#### 5.1.1. Importando o NumPy"
      ]
    },
    {
      "cell_type": "markdown",
      "metadata": {
        "id": "cmh4gzdFJqp6"
      },
      "source": [
        "Na aula anterior você já aprendeu a importar o NumPy, vamos importá-lo com o alias ```np```."
      ]
    },
    {
      "cell_type": "code",
      "execution_count": null,
      "metadata": {
        "id": "s2sCbGy_I7Ue",
        "scrolled": false
      },
      "outputs": [],
      "source": [
        "import numpy as np"
      ]
    },
    {
      "cell_type": "markdown",
      "metadata": {
        "id": "FqF1WpJ7I7Uq"
      },
      "source": [
        "Vamos agora observar o porquê o NumPy é tão poderoso e preferível às listas do Python.\n",
        "\n",
        "Imagine que você tenha duas listas de dados de indivíduos, com alturas e pesos, e queira calcular o IMC [(Índice de Massa Corporal)](https://pt.wikipedia.org/wiki/Índice_de_massa_corporal) de cada um deles, como mostrado abaixo:"
      ]
    },
    {
      "cell_type": "code",
      "execution_count": null,
      "metadata": {
        "id": "4BxlI-C-I7Ut"
      },
      "outputs": [],
      "source": [
        "altura = [1.81, 1.77, 1.69, 1.91]\n",
        "peso = [89.0, 77.3, 55.9, 99.4]\n",
        "\n",
        "# Calculando o IMC\n",
        "imc = peso / altura ** 2"
      ]
    },
    {
      "cell_type": "markdown",
      "metadata": {
        "id": "qCtEhF62I7Uv"
      },
      "source": [
        "Observe que o Python nos retornou um erro porque não é possivel realizar cálculos com listas, para isso vamos utilizar os arrays do NumPy!"
      ]
    },
    {
      "cell_type": "code",
      "execution_count": null,
      "metadata": {
        "id": "KNMFG6iEI7Uw",
        "colab": {
          "base_uri": "https://localhost:8080/"
        },
        "outputId": "3423d111-6881-4b3c-a499-d29c20c6374e"
      },
      "outputs": [
        {
          "output_type": "execute_result",
          "data": {
            "text/plain": [
              "array([27.16644791, 24.67362508, 19.57214383, 27.24706011])"
            ]
          },
          "metadata": {},
          "execution_count": 4
        }
      ],
      "source": [
        "# Criando os arrays com o NumPy\n",
        "\n",
        "np_altura = np.array(altura)\n",
        "np_peso = np.array(peso)\n",
        "\n",
        "# Calculando o IMC\n",
        "imc = np_peso / np_altura ** 2\n",
        "imc"
      ]
    },
    {
      "cell_type": "markdown",
      "metadata": {
        "id": "w0SOdKBbI7Uy"
      },
      "source": [
        "O Numpy consegue realizar perfeitamente as operações elemento a elemento!\n",
        "\n",
        "Mas fique atento! O NumPy só consegue fazer isto pois ele assume que cada array possui elementos de um único tipo de dado. Se você tentar criar um array com tipos de dados diferentes, o NumPy irá converter todos os elementos para um único tipo. Observe abaixo:\n"
      ]
    },
    {
      "cell_type": "code",
      "execution_count": null,
      "metadata": {
        "id": "6EnSIBeviRhW",
        "colab": {
          "base_uri": "https://localhost:8080/"
        },
        "outputId": "2fba28d0-9397-4ef9-a02f-b0acff622bbf"
      },
      "outputs": [
        {
          "output_type": "execute_result",
          "data": {
            "text/plain": [
              "array(['1.0', '4', 'True', 'NumPy'], dtype='<U32')"
            ]
          },
          "metadata": {},
          "execution_count": 5
        }
      ],
      "source": [
        "np.array([1.0, 4, True, \"NumPy\"])"
      ]
    },
    {
      "cell_type": "markdown",
      "metadata": {
        "id": "MhnufEJkJqp-"
      },
      "source": [
        "\n",
        "Além disso, algumas operações podem funcionar de forma diferente do que você imagina. Veja o exemplo abaixo:"
      ]
    },
    {
      "cell_type": "code",
      "execution_count": null,
      "metadata": {
        "id": "tML_YhdJI7Uz",
        "colab": {
          "base_uri": "https://localhost:8080/"
        },
        "outputId": "1a63c125-78a0-4c7f-9c7e-7c2e7cf546af"
      },
      "outputs": [
        {
          "output_type": "execute_result",
          "data": {
            "text/plain": [
              "[1.81, 1.77, 1.69, 1.91, 1.81, 1.77, 1.69, 1.91]"
            ]
          },
          "metadata": {},
          "execution_count": 6
        }
      ],
      "source": [
        "# Lista do Python\n",
        "altura * 2"
      ]
    },
    {
      "cell_type": "code",
      "execution_count": null,
      "metadata": {
        "id": "YDEKa-xFI7U1",
        "colab": {
          "base_uri": "https://localhost:8080/"
        },
        "outputId": "663b634c-7c83-4dd1-92a2-872f9e71bd53"
      },
      "outputs": [
        {
          "output_type": "execute_result",
          "data": {
            "text/plain": [
              "array([3.62, 3.54, 3.38, 3.82])"
            ]
          },
          "metadata": {},
          "execution_count": 7
        }
      ],
      "source": [
        "# NumPy array\n",
        "np_altura * 2"
      ]
    },
    {
      "cell_type": "markdown",
      "metadata": {
        "id": "pcH2OAfDI7U3"
      },
      "source": [
        "#### 5.1.2. Selecionando subconjuntos de NumPy Arrays\n",
        "A seleção de subconjuntos de NumPy arrays funciona de forma similar à listas de Python."
      ]
    },
    {
      "cell_type": "code",
      "execution_count": null,
      "metadata": {
        "id": "rwniB6TNI7U3",
        "colab": {
          "base_uri": "https://localhost:8080/"
        },
        "outputId": "681ae232-94b6-48f2-e9ae-fb3b8765be34"
      },
      "outputs": [
        {
          "output_type": "execute_result",
          "data": {
            "text/plain": [
              "19.572143832498863"
            ]
          },
          "metadata": {},
          "execution_count": 8
        }
      ],
      "source": [
        "# retornando o terceiro elemento da array\n",
        "imc[2]"
      ]
    },
    {
      "cell_type": "markdown",
      "metadata": {
        "id": "uj--wzxrI7U5"
      },
      "source": [
        "Você também pode selecionar subconjuntos baseados em condições, de forma que apenas os valores que satisfazem as condições serão retornados."
      ]
    },
    {
      "cell_type": "code",
      "execution_count": null,
      "metadata": {
        "id": "RwCbDMxwI7U6",
        "colab": {
          "base_uri": "https://localhost:8080/"
        },
        "outputId": "85e7008e-4fc0-472f-bb4e-12b9c9e69cfa"
      },
      "outputs": [
        {
          "output_type": "execute_result",
          "data": {
            "text/plain": [
              "array([27.16644791, 27.24706011])"
            ]
          },
          "metadata": {},
          "execution_count": 11
        }
      ],
      "source": [
        "imc[imc > 25]"
      ]
    },
    {
      "cell_type": "markdown",
      "metadata": {
        "id": "UxtVUoQ-JqqC"
      },
      "source": [
        "Podemos combinar a seleção de um subconjunto com a utilização de uma função, observe:"
      ]
    },
    {
      "cell_type": "code",
      "execution_count": null,
      "metadata": {
        "id": "Gx5DzL4LJqqC",
        "colab": {
          "base_uri": "https://localhost:8080/"
        },
        "outputId": "70172328-8df5-491f-a77f-544833b5a64f"
      },
      "outputs": [
        {
          "output_type": "execute_result",
          "data": {
            "text/plain": [
              "51.840072986433796"
            ]
          },
          "metadata": {},
          "execution_count": 10
        }
      ],
      "source": [
        "# soma do IMC do primeiro e segundo elementos\n",
        "sum(imc[0:2])"
      ]
    },
    {
      "cell_type": "markdown",
      "metadata": {
        "id": "2zxPjcqzI7U8"
      },
      "source": [
        "Agora vamos fazer um exercício para fixação."
      ]
    },
    {
      "cell_type": "markdown",
      "metadata": {
        "id": "DFgrAn-4I7U9"
      },
      "source": [
        "#### Exercício 5.1"
      ]
    },
    {
      "cell_type": "code",
      "execution_count": null,
      "metadata": {
        "exid": "2.1.1",
        "id": "xCqSvuZKI7U9",
        "colab": {
          "base_uri": "https://localhost:8080/"
        },
        "outputId": "d7f5c274-dc92-4e96-d626-07bf01a4cc41"
      },
      "outputs": [
        {
          "output_type": "stream",
          "name": "stdout",
          "text": [
            "<class 'numpy.ndarray'>\n"
          ]
        }
      ],
      "source": [
        "#Exercício 5.1.1\n",
        "# lista de pesos de castanhas\n",
        "c_peso = [0.946, 0.918, 0.906, 0.904, 0.858, 0.774, 0.652, 0.516, 0.478, 0.404, 0.396, 0.364, 0.342, 0.304, \n",
        "            0.262, 0.208, 0.134, 0.974, 0.792, 0.792, 0.628, 0.552, 0.506, 0.478, 0.462, 0.436, 0.408, 0.378, \n",
        "            0.3, 0.298, 0.268, 0.252, 0.16, 0.114, 0.092, 0.936, 0.894, 0.744, 0.706, 0.694, 0.69, 0.652, 0.518, \n",
        "            0.508, 0.502, 0.5, 0.47, 0.44, 0.39, 0.384]\n",
        "\n",
        "# Importe o numpy como np\n",
        "import numpy as np\n",
        "\n",
        "# Crie um numpy array (np_c_peso) a partir de c_peso\n",
        "np_c_peso = np.array(c_peso)\n",
        "\n",
        "# Printe o tipo de np_c_peso\n",
        "print(type(np_c_peso))"
      ]
    },
    {
      "cell_type": "code",
      "execution_count": null,
      "metadata": {
        "exid": "2.1.2",
        "id": "2Q3pveLOI7U_",
        "scrolled": false,
        "colab": {
          "base_uri": "https://localhost:8080/"
        },
        "outputId": "2ca7e457-a2df-44a8-cb45-df9d920adbda"
      },
      "outputs": [
        {
          "output_type": "execute_result",
          "data": {
            "text/plain": [
              "array([42.57, 41.31, 40.77, 40.68, 38.61, 34.83, 29.34, 23.22, 21.51,\n",
              "       18.18, 17.82, 16.38, 15.39, 13.68, 11.79,  9.36,  6.03, 43.83,\n",
              "       35.64, 35.64, 28.26, 24.84, 22.77, 21.51, 20.79, 19.62, 18.36,\n",
              "       17.01, 13.5 , 13.41, 12.06, 11.34,  7.2 ,  5.13,  4.14, 42.12,\n",
              "       40.23, 33.48, 31.77, 31.23, 31.05, 29.34, 23.31, 22.86, 22.59,\n",
              "       22.5 , 21.15, 19.8 , 17.55, 17.28])"
            ]
          },
          "metadata": {},
          "execution_count": 22
        }
      ],
      "source": [
        "#Exercício 5.1.2\n",
        "c_kg_preco = 45.00\n",
        "\n",
        "# Crie um numpy array (np_c_despesa) a partir de np_c_peso com a quantia gasta em cada compra\n",
        "\n",
        "np_c_despesa = np.array(np_c_peso * c_kg_preco)\n",
        "np_c_despesa"
      ]
    },
    {
      "cell_type": "code",
      "execution_count": null,
      "metadata": {
        "exid": "2.1.3",
        "id": "Xe-lvBwBI7VB",
        "scrolled": true,
        "colab": {
          "base_uri": "https://localhost:8080/"
        },
        "outputId": "c27506ab-a1c4-4286-952e-ea90e3767fbd"
      },
      "outputs": [
        {
          "output_type": "execute_result",
          "data": {
            "text/plain": [
              "563.7599999999999"
            ]
          },
          "metadata": {},
          "execution_count": 34
        }
      ],
      "source": [
        "#Exercício 5.1.3\n",
        "# Crie a variável compras_acima_30 que corresponde ao valor total gasto nas compras que custaram mais de R$ 30. Printe o resultado\n",
        "compras_acima_30 = sum(np_c_despesa[np_c_despesa > 30])\n",
        "compras_acima_30"
      ]
    },
    {
      "cell_type": "code",
      "execution_count": null,
      "metadata": {
        "exid": "2.1.4",
        "id": "wDn9adM4JqqF",
        "colab": {
          "base_uri": "https://localhost:8080/"
        },
        "outputId": "1fa53987-af4b-42ba-b4fa-1ce38c3cb4b6"
      },
      "outputs": [
        {
          "output_type": "execute_result",
          "data": {
            "text/plain": [
              "0.628"
            ]
          },
          "metadata": {},
          "execution_count": 24
        }
      ],
      "source": [
        "# Exercício 5.1.4\n",
        "# Salve na variável peso_20 o peso no indíce 20 (vigésima primeira compra)\n",
        "peso_20 = c_peso[20]\n",
        "peso_20"
      ]
    },
    {
      "cell_type": "markdown",
      "metadata": {
        "id": "C-4-5HH1I7VD"
      },
      "source": [
        "#### 5.1.3.  Array N-dimensional\n",
        "Vamos verificar o tipo dos arrays criados acima!"
      ]
    },
    {
      "cell_type": "code",
      "execution_count": null,
      "metadata": {
        "id": "LCgv4mtYI7VD",
        "colab": {
          "base_uri": "https://localhost:8080/"
        },
        "outputId": "955d3a9d-2b2a-4e1d-ff40-27e98bc34c05"
      },
      "outputs": [
        {
          "output_type": "stream",
          "name": "stdout",
          "text": [
            "<class 'numpy.ndarray'>\n"
          ]
        }
      ],
      "source": [
        "print(type(np_c_peso))"
      ]
    },
    {
      "cell_type": "markdown",
      "metadata": {
        "id": "ACK51kB7I7VG"
      },
      "source": [
        "**ndarrays** significam arrays N-dimensionais, vamos criar um NumPy array multi-dimensional a partir de listas tradicionais do Python."
      ]
    },
    {
      "cell_type": "code",
      "execution_count": null,
      "metadata": {
        "id": "xPyc-WqnI7VG",
        "colab": {
          "base_uri": "https://localhost:8080/"
        },
        "outputId": "9d91e1e4-ac2e-4203-8baa-1c161607c885"
      },
      "outputs": [
        {
          "output_type": "execute_result",
          "data": {
            "text/plain": [
              "array([[ 1.81,  1.77,  1.69,  1.91],\n",
              "       [89.  , 77.3 , 55.9 , 99.4 ]])"
            ]
          },
          "metadata": {},
          "execution_count": 32
        }
      ],
      "source": [
        "np_2d = np.array([[1.81, 1.77, 1.69, 1.91],\n",
        "                  [89.0, 77.3, 55.9, 99.4]])\n",
        "np_2d"
      ]
    },
    {
      "cell_type": "markdown",
      "metadata": {
        "id": "pdWHekG8I7VI"
      },
      "source": [
        "Cada sublista da lista corresponde à uma linha da array bi-dimensional criada.\n",
        "Nós podemos verificar o tamanho do array usando o atributo ```shape```."
      ]
    },
    {
      "cell_type": "code",
      "execution_count": null,
      "metadata": {
        "id": "NDV2yCBVI7VI",
        "colab": {
          "base_uri": "https://localhost:8080/"
        },
        "outputId": "ac96c581-8228-4679-fdc9-d618156a2027"
      },
      "outputs": [
        {
          "output_type": "execute_result",
          "data": {
            "text/plain": [
              "(2, 4)"
            ]
          },
          "metadata": {},
          "execution_count": 33
        }
      ],
      "source": [
        "np_2d.shape"
      ]
    },
    {
      "cell_type": "markdown",
      "metadata": {
        "id": "wlRoKTY7I7VK"
      },
      "source": [
        "Podemos ver que o np_2d tem 2 linhas e 4 colunas."
      ]
    },
    {
      "cell_type": "markdown",
      "metadata": {
        "id": "7FwtOqG0I7VK"
      },
      "source": [
        "#### 5.1.4. Selecionando subconjuntos de array bidimensional\n",
        "\n",
        "Assim como o array unidimensional, também podemos selecionar um subconjunto de um array bidimensional, usando o índice da linha e coluna como exemplifica a imagem abaixo.\n",
        "![Subsetting](https://imgur.com/08EIOjy.png)\n",
        "Veja alguns exemplos de como isso é feito."
      ]
    },
    {
      "cell_type": "code",
      "execution_count": null,
      "metadata": {
        "id": "wuhs2K0II7VL",
        "colab": {
          "base_uri": "https://localhost:8080/"
        },
        "outputId": "5c52cbc3-34c9-4a8d-cdb4-2bc886d4690d"
      },
      "outputs": [
        {
          "output_type": "execute_result",
          "data": {
            "text/plain": [
              "array([1.81, 1.77, 1.69, 1.91])"
            ]
          },
          "metadata": {},
          "execution_count": 34
        }
      ],
      "source": [
        "# Selecionando a primeira linha\n",
        "np_2d[0]"
      ]
    },
    {
      "cell_type": "code",
      "execution_count": null,
      "metadata": {
        "id": "9XQL-bOLI7VN",
        "colab": {
          "base_uri": "https://localhost:8080/"
        },
        "outputId": "8738b986-48f7-4c98-c4ad-070f07c9164a"
      },
      "outputs": [
        {
          "output_type": "execute_result",
          "data": {
            "text/plain": [
              "1.69"
            ]
          },
          "metadata": {},
          "execution_count": 35
        }
      ],
      "source": [
        "# Selecionando a altura (primeira linha) do terceiro elemento\n",
        "np_2d[0][2]"
      ]
    },
    {
      "cell_type": "markdown",
      "metadata": {
        "id": "nNYPyUANI7VO"
      },
      "source": [
        "Basicamente nós selecionamos a linha, e a partir daquela linha fazemos outra seleção.\n",
        "\n",
        "Também é possível selecionar utilizando vírgulas dentro de colchetes: ```array[linha, coluna]```"
      ]
    },
    {
      "cell_type": "code",
      "execution_count": null,
      "metadata": {
        "id": "JalM9A2EI7VP",
        "colab": {
          "base_uri": "https://localhost:8080/"
        },
        "outputId": "adea581f-61a2-44c1-8383-43e23d5742cc"
      },
      "outputs": [
        {
          "output_type": "execute_result",
          "data": {
            "text/plain": [
              "1.69"
            ]
          },
          "metadata": {},
          "execution_count": 36
        }
      ],
      "source": [
        "# Primeira linha e terceira coluna\n",
        "np_2d[0, 2]"
      ]
    },
    {
      "cell_type": "code",
      "execution_count": null,
      "metadata": {
        "id": "ksqMjmYEI7VR",
        "colab": {
          "base_uri": "https://localhost:8080/"
        },
        "outputId": "af3eb066-d9d6-4477-cb23-e564eea711ed"
      },
      "outputs": [
        {
          "output_type": "execute_result",
          "data": {
            "text/plain": [
              "array([[ 1.77,  1.69],\n",
              "       [77.3 , 55.9 ]])"
            ]
          },
          "metadata": {},
          "execution_count": 37
        }
      ],
      "source": [
        "# Todas as linhas e segunda e terceira coluna\n",
        "np_2d[:, 1:3] "
      ]
    },
    {
      "cell_type": "markdown",
      "metadata": {
        "id": "WcAa54mqI7VT"
      },
      "source": [
        "#### Exercício 5.2\n",
        "\n",
        "Abaixo temos uma lista de listas contendo informações de vendas de castanhas de uma loja. Cada lista representa uma venda que foi realizada. O primeiro elemento de cada lista é o dia que  venda foi feita, o segundo elemento representa o peso das castanhas compradas. Por fim, o terceiro elemento é a quantia paga pelas castanhas.\n",
        "\n",
        "Com isso em mente, faça os seguintes exercícios:"
      ]
    },
    {
      "cell_type": "code",
      "execution_count": null,
      "metadata": {
        "exid": "2.2.1",
        "id": "UjZhdLusI7VU",
        "colab": {
          "base_uri": "https://localhost:8080/"
        },
        "outputId": "4cd68d76-77b2-4975-8c81-6c969169fc1f"
      },
      "outputs": [
        {
          "output_type": "stream",
          "name": "stdout",
          "text": [
            "<class 'numpy.ndarray'>\n"
          ]
        },
        {
          "output_type": "execute_result",
          "data": {
            "text/plain": [
              "(50, 3)"
            ]
          },
          "metadata": {},
          "execution_count": 38
        }
      ],
      "source": [
        "# Exercício 5.2.1\n",
        "castanha = [[2, 0.946, 66.1], \n",
        "          [2, 0.918, 32.96], \n",
        "          [2, 0.906, 58.76],\n",
        "          [2, 0.904, 29.14], \n",
        "          [2, 0.858, 59.96],\n",
        "          [2, 0.774, 27.77],\n",
        "          [2, 0.652, 42.3],\n",
        "          [2, 0.516, 18.51], \n",
        "          [2, 0.478, 17.15],\n",
        "          [2, 0.404, 28.22], \n",
        "          [2, 0.396, 7.88], \n",
        "          [2, 0.364, 7.24],\n",
        "          [2, 0.342, 22.18], \n",
        "          [2, 0.304, 10.91], \n",
        "          [2, 0.262, 9.41], \n",
        "          [2, 0.208, 4.13],\n",
        "          [2, 0.134, 9.36],\n",
        "          [4, 0.974, 34.95],\n",
        "          [4, 0.792, 51.38],\n",
        "          [4, 0.792, 51.38], \n",
        "          [4, 0.628, 12.48], \n",
        "          [4, 0.552, 19.81], \n",
        "          [4, 0.506, 25], \n",
        "          [4, 0.478, 31], \n",
        "          [4, 0.462, 32.24],\n",
        "          [4, 0.436, 28.28],\n",
        "          [4, 0.408, 14.64],\n",
        "          [4, 0.378, 13.56],\n",
        "          [4, 0.3, 19.46],\n",
        "          [4, 0.298, 10.69],\n",
        "          [4, 0.268, 9.62],\n",
        "          [4, 0.252, 16.34],\n",
        "          [4, 0.16, 3.18],\n",
        "          [4, 0.114, 4.09],\n",
        "          [4, 0.092, 5.97],\n",
        "          [5, 0.936, 65.33],\n",
        "          [5, 0.894, 32.07],\n",
        "          [5, 0.744, 48.28], \n",
        "          [5, 0.706, 25.34],\n",
        "          [5, 0.694, 24.91], \n",
        "          [5, 0.69, 13.72], \n",
        "          [5, 0.652, 42.32], \n",
        "          [5, 0.518, 33.6], \n",
        "          [5, 0.508, 18.23],\n",
        "          [5, 0.502, 35.09],\n",
        "          [5, 0.5, 27.45], \n",
        "          [5, 0.47, 9.35], \n",
        "          [5, 0.44, 28.54],\n",
        "          [5, 0.39, 7.76], \n",
        "          [5, 0.384, 21.08]]\n",
        "\n",
        "# Crie um numpy array 2d (np_castanha) a partir de castanha\n",
        "np_castanha = np.array(castanha)\n",
        "\n",
        "# Printe o tipo de np_castanha\n",
        "print(type(np_castanha))\n",
        "\n",
        "\n",
        "# Printe as dimensões (número de linhas e colunas)\n",
        "np_castanha.shape\n"
      ]
    },
    {
      "cell_type": "code",
      "execution_count": null,
      "metadata": {
        "exid": "2.2.2",
        "id": "SWkISBQDI7VX",
        "scrolled": false,
        "colab": {
          "base_uri": "https://localhost:8080/"
        },
        "outputId": "f4e0dadd-28ad-4b77-b530-53c41aaf3912"
      },
      "outputs": [
        {
          "output_type": "stream",
          "name": "stdout",
          "text": [
            "[0.946 0.918 0.906 0.904 0.858 0.774 0.652 0.516 0.478 0.404 0.396 0.364\n",
            " 0.342 0.304 0.262 0.208 0.134 0.974 0.792 0.792 0.628 0.552 0.506 0.478\n",
            " 0.462 0.436 0.408 0.378 0.3   0.298 0.268 0.252 0.16  0.114 0.092 0.936\n",
            " 0.894 0.744 0.706 0.694 0.69  0.652 0.518 0.508 0.502 0.5   0.47  0.44\n",
            " 0.39  0.384]\n"
          ]
        }
      ],
      "source": [
        "# Exercício 5.2.2\n",
        "# Crie um numpy array (np_peso) que corresponde à toda segunda coluna de np_castanha\n",
        "np_peso = np_castanha[:, 1]\n",
        "print(np_peso)\n",
        "\n",
        "\n"
      ]
    },
    {
      "cell_type": "code",
      "execution_count": null,
      "metadata": {
        "id": "PFzZj3zNJqqK",
        "colab": {
          "base_uri": "https://localhost:8080/"
        },
        "outputId": "87153f84-0f73-4358-cd4d-3352ec07856c"
      },
      "outputs": [
        {
          "output_type": "stream",
          "name": "stdout",
          "text": [
            "10.91\n",
            "[66.1  32.96 58.76 29.14 59.96 27.77 42.3  18.51 17.15 28.22  7.88  7.24\n",
            " 22.18 10.91  9.41  4.13  9.36  4.   34.95  4.   51.38  4.   51.38  4.\n",
            " 12.48  4.   19.81  4.   25.    4.   31.    4.   32.24  4.   28.28  4.\n",
            " 14.64  4.   13.56  4.   19.46  4.   10.69  4.    9.62  4.   16.34  4.\n",
            "  3.18  4.    4.09  4.    5.97  5.   65.33  5.   32.07  5.   48.28  5.\n",
            " 25.34  5.   24.91  5.   13.72  5.   42.32  5.   33.6   5.   18.23  5.\n",
            " 35.09  5.   27.45  5.    9.35  5.   28.54  5.    7.76  5.   21.08]\n"
          ]
        }
      ],
      "source": [
        "# Exercício 5.2.3\n",
        "# Printe o preço da 14ª (décima quarta) venda\n",
        "venda_14 = np_castanha[13, 2]\n",
        "print(venda_14)\n",
        "\n",
        "# Printe todas as vendas feitas após o dia 2\n",
        "vendas_depois_dia2 = np_castanha[np_castanha > 2][:]\n",
        "print(vendas_depois_dia2)\n",
        "\n"
      ]
    },
    {
      "cell_type": "markdown",
      "metadata": {
        "id": "YIEqkTlVI7VZ"
      },
      "source": [
        "#### 5.1.5. Estatística básica com NumPy\n",
        "Costumeiramente o primeiro passo para analisar nossos dados é conhecê-los através de estatística descritiva. O NumPy pode ser usado para obter essa visão inicial dos dados mesmo com grande quantidade de observações. Nos próximos módulos teremos uma aula dedicada à estatística básica, então não se preocupe se você não entender algum dos conceitos utilizados abaixo.\n",
        "\n",
        "Vamos então usar alguns atributos do NumPy para começar a analisar nossos dados."
      ]
    },
    {
      "cell_type": "code",
      "execution_count": null,
      "metadata": {
        "id": "sTkUT6xzI7VZ",
        "colab": {
          "base_uri": "https://localhost:8080/"
        },
        "outputId": "069b129f-e7f6-4ce9-d923-9057a4c3c243"
      },
      "outputs": [
        {
          "output_type": "execute_result",
          "data": {
            "text/plain": [
              "80.4"
            ]
          },
          "metadata": {},
          "execution_count": 37
        }
      ],
      "source": [
        "np_a_p = np.array([[1.81, 89.0],\n",
        "                  [1.77, 77.3],\n",
        "                  [1.69, 55.9],\n",
        "                  [1.91, 99.4]])\n",
        "\n",
        "# Calculando a média dos pesos\n",
        "np.mean(np_a_p[:, 1])"
      ]
    },
    {
      "cell_type": "code",
      "execution_count": null,
      "metadata": {
        "id": "GFAOifpqI7Vc",
        "colab": {
          "base_uri": "https://localhost:8080/"
        },
        "outputId": "b07123e2-9afb-45ff-c999-4b750c6bb46a"
      },
      "outputs": [
        {
          "output_type": "execute_result",
          "data": {
            "text/plain": [
              "83.15"
            ]
          },
          "metadata": {},
          "execution_count": 38
        }
      ],
      "source": [
        "# calculando a mediana dos pesos\n",
        "np.median(np_a_p[:, 1])"
      ]
    },
    {
      "cell_type": "code",
      "execution_count": null,
      "metadata": {
        "id": "Y3z2MNdDI7Vd",
        "colab": {
          "base_uri": "https://localhost:8080/"
        },
        "outputId": "4ba9700d-972f-418d-edb1-69e6dc8071d5"
      },
      "outputs": [
        {
          "output_type": "execute_result",
          "data": {
            "text/plain": [
              "array([[1.        , 0.96933562],\n",
              "       [0.96933562, 1.        ]])"
            ]
          },
          "metadata": {},
          "execution_count": 39
        }
      ],
      "source": [
        "# calculando os coeficientes de correlação entre pesos e alturas\n",
        "np.corrcoef(np_a_p[:, 0], np_a_p[:, 1])"
      ]
    },
    {
      "cell_type": "code",
      "execution_count": null,
      "metadata": {
        "id": "Dd8HC0onI7Vg",
        "colab": {
          "base_uri": "https://localhost:8080/"
        },
        "outputId": "0593ab18-11b1-4b5b-93a4-fc4329097d4f"
      },
      "outputs": [
        {
          "output_type": "execute_result",
          "data": {
            "text/plain": [
              "16.16183776678878"
            ]
          },
          "metadata": {},
          "execution_count": 40
        }
      ],
      "source": [
        "# calculando o desvio padrão dos pesos\n",
        "np.std(np_a_p[:, 1])"
      ]
    },
    {
      "cell_type": "code",
      "execution_count": null,
      "metadata": {
        "id": "b2taaZh6I7Vh",
        "colab": {
          "base_uri": "https://localhost:8080/"
        },
        "outputId": "84dacaae-dbb2-451c-8173-9244e348abee"
      },
      "outputs": [
        {
          "output_type": "execute_result",
          "data": {
            "text/plain": [
              "321.6"
            ]
          },
          "metadata": {},
          "execution_count": 41
        }
      ],
      "source": [
        "# calculando a soma dos pesos\n",
        "np.sum(np_a_p[:, 1])"
      ]
    },
    {
      "cell_type": "markdown",
      "metadata": {
        "id": "DzNkxEpAI7Vj"
      },
      "source": [
        "Alguns desses atributos já estão disponíveis no Python, no entanto, a principal diferença entre eles é a performance. Os atributos do NumPy são mais rápidos na execução do que os básicos do Python."
      ]
    },
    {
      "cell_type": "markdown",
      "metadata": {
        "id": "cv9uSyMSI7Vj"
      },
      "source": [
        "Lembrando que sempre que tiver dificuldade para entender algum atributo, você pode consultar a documentação do [NumPy](https://numpy.org/doc/)."
      ]
    },
    {
      "cell_type": "markdown",
      "metadata": {
        "id": "Pp0AJiz8I7Vk"
      },
      "source": [
        "Agora que aprendemos como o NumPy funciona, vamos aprender sobre uma das bibliotecas mais utilizadas para manipulação de dados em Python, o **Pandas**!"
      ]
    },
    {
      "cell_type": "markdown",
      "metadata": {
        "id": "cPjwSjerGCLe"
      },
      "source": [
        "# Declaração de Inexistência de Plágio:\n",
        "\n",
        "1. Eu sei que plágio é utilizar o trabalho de outra pessoa e apresentar como meu.\n",
        "2. Eu sei que plágio é errado e declaro que este notebook foi feito por mim.\n",
        "3. Tenho consciência de que a utilização do trabalho de terceiros é antiético e está sujeito à medidas administrativas.\n",
        "4. Declaro também que não compartilhei e não compartilharei meu trabalho com o intuito de que seja copiado e submetido por outra pessoa."
      ]
    },
    {
      "cell_type": "code",
      "execution_count": null,
      "metadata": {
        "id": "tee_THllJtYX"
      },
      "outputs": [],
      "source": [
        "# LEMBRE-SE DE SALVAR O NOTEBOOK ANTES DE EXECUTAR ESSA CELULA\n",
        "token = '___' # seu token aqui\n",
        "\n",
        "# Não altere o código abaixo\n",
        "import requests as req\n",
        "exec(req.get('https://api.vai.academy/submissioncode2').text)"
      ]
    },
    {
      "cell_type": "markdown",
      "source": [
        "# Fim da aula!\n",
        "\n",
        "Obrigado por participar do curso, você acaba de finalizar a aula de NumPy e Pandas. Neste momento você já deve ser capaz de manipular seus dados no Python, utilizando as bibliotecas que acabamos de aprender! \n",
        "\n",
        "Lembre-se que sempre que surgir alguma dúvida, você pode olhar a documentação do [NumPy](https://numpy.org/doc/) e do [Pandas](https://pandas.pydata.org/docs/)."
      ],
      "metadata": {
        "id": "jXkIJy_tMoo8"
      }
    }
  ],
  "metadata": {
    "colab": {
      "collapsed_sections": [
        "pcH2OAfDI7U3"
      ],
      "provenance": []
    },
    "kernelspec": {
      "display_name": "Python 3 (ipykernel)",
      "language": "python",
      "name": "python3"
    },
    "language_info": {
      "codemirror_mode": {
        "name": "ipython",
        "version": 3
      },
      "file_extension": ".py",
      "mimetype": "text/x-python",
      "name": "python",
      "nbconvert_exporter": "python",
      "pygments_lexer": "ipython3",
      "version": "3.9.7"
    }
  },
  "nbformat": 4,
  "nbformat_minor": 0
}